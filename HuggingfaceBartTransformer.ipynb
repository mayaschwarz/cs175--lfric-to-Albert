{
  "nbformat": 4,
  "nbformat_minor": 0,
  "metadata": {
    "colab": {
      "name": "HuggingfaceBartTransformer.ipynb",
      "provenance": [],
      "collapsed_sections": [],
      "machine_shape": "hm",
      "include_colab_link": true
    },
    "kernelspec": {
      "display_name": "Python 3",
      "name": "python3"
    },
    "accelerator": "GPU",
    "widgets": {
      "application/vnd.jupyter.widget-state+json": {
        "6a53fb9eac8845a2825e595749980356": {
          "model_module": "@jupyter-widgets/controls",
          "model_name": "HBoxModel",
          "state": {
            "_view_name": "HBoxView",
            "_dom_classes": [],
            "_model_name": "HBoxModel",
            "_view_module": "@jupyter-widgets/controls",
            "_model_module_version": "1.5.0",
            "_view_count": null,
            "_view_module_version": "1.5.0",
            "box_style": "",
            "layout": "IPY_MODEL_89f8754e0e1a416a8e2abd4578ea098a",
            "_model_module": "@jupyter-widgets/controls",
            "children": [
              "IPY_MODEL_5601dd5ab6f14a0988804d1b373f0c8f",
              "IPY_MODEL_b4f3c7ef3e6548799209ae8c39522449"
            ]
          }
        },
        "89f8754e0e1a416a8e2abd4578ea098a": {
          "model_module": "@jupyter-widgets/base",
          "model_name": "LayoutModel",
          "state": {
            "_view_name": "LayoutView",
            "grid_template_rows": null,
            "right": null,
            "justify_content": null,
            "_view_module": "@jupyter-widgets/base",
            "overflow": null,
            "_model_module_version": "1.2.0",
            "_view_count": null,
            "flex_flow": null,
            "width": null,
            "min_width": null,
            "border": null,
            "align_items": null,
            "bottom": null,
            "_model_module": "@jupyter-widgets/base",
            "top": null,
            "grid_column": null,
            "overflow_y": null,
            "overflow_x": null,
            "grid_auto_flow": null,
            "grid_area": null,
            "grid_template_columns": null,
            "flex": null,
            "_model_name": "LayoutModel",
            "justify_items": null,
            "grid_row": null,
            "max_height": null,
            "align_content": null,
            "visibility": null,
            "align_self": null,
            "height": null,
            "min_height": null,
            "padding": null,
            "grid_auto_rows": null,
            "grid_gap": null,
            "max_width": null,
            "order": null,
            "_view_module_version": "1.2.0",
            "grid_template_areas": null,
            "object_position": null,
            "object_fit": null,
            "grid_auto_columns": null,
            "margin": null,
            "display": null,
            "left": null
          }
        },
        "5601dd5ab6f14a0988804d1b373f0c8f": {
          "model_module": "@jupyter-widgets/controls",
          "model_name": "FloatProgressModel",
          "state": {
            "_view_name": "ProgressView",
            "style": "IPY_MODEL_2cc943baf45442bab32d3b5850322037",
            "_dom_classes": [],
            "description": "Downloading: ",
            "_model_name": "FloatProgressModel",
            "bar_style": "success",
            "max": 2055,
            "_view_module": "@jupyter-widgets/controls",
            "_model_module_version": "1.5.0",
            "value": 2055,
            "_view_count": null,
            "_view_module_version": "1.5.0",
            "orientation": "horizontal",
            "min": 0,
            "description_tooltip": null,
            "_model_module": "@jupyter-widgets/controls",
            "layout": "IPY_MODEL_9a24e202b9364bb9b2084726da684f40"
          }
        },
        "b4f3c7ef3e6548799209ae8c39522449": {
          "model_module": "@jupyter-widgets/controls",
          "model_name": "HTMLModel",
          "state": {
            "_view_name": "HTMLView",
            "style": "IPY_MODEL_8b457a86f6654dd2adeb2f35e325fcd1",
            "_dom_classes": [],
            "description": "",
            "_model_name": "HTMLModel",
            "placeholder": "​",
            "_view_module": "@jupyter-widgets/controls",
            "_model_module_version": "1.5.0",
            "value": " 4.63k/? [00:00&lt;00:00, 19.9kB/s]",
            "_view_count": null,
            "_view_module_version": "1.5.0",
            "description_tooltip": null,
            "_model_module": "@jupyter-widgets/controls",
            "layout": "IPY_MODEL_e25f7412e10240a980121b278860132e"
          }
        },
        "2cc943baf45442bab32d3b5850322037": {
          "model_module": "@jupyter-widgets/controls",
          "model_name": "ProgressStyleModel",
          "state": {
            "_view_name": "StyleView",
            "_model_name": "ProgressStyleModel",
            "description_width": "initial",
            "_view_module": "@jupyter-widgets/base",
            "_model_module_version": "1.5.0",
            "_view_count": null,
            "_view_module_version": "1.2.0",
            "bar_color": null,
            "_model_module": "@jupyter-widgets/controls"
          }
        },
        "9a24e202b9364bb9b2084726da684f40": {
          "model_module": "@jupyter-widgets/base",
          "model_name": "LayoutModel",
          "state": {
            "_view_name": "LayoutView",
            "grid_template_rows": null,
            "right": null,
            "justify_content": null,
            "_view_module": "@jupyter-widgets/base",
            "overflow": null,
            "_model_module_version": "1.2.0",
            "_view_count": null,
            "flex_flow": null,
            "width": null,
            "min_width": null,
            "border": null,
            "align_items": null,
            "bottom": null,
            "_model_module": "@jupyter-widgets/base",
            "top": null,
            "grid_column": null,
            "overflow_y": null,
            "overflow_x": null,
            "grid_auto_flow": null,
            "grid_area": null,
            "grid_template_columns": null,
            "flex": null,
            "_model_name": "LayoutModel",
            "justify_items": null,
            "grid_row": null,
            "max_height": null,
            "align_content": null,
            "visibility": null,
            "align_self": null,
            "height": null,
            "min_height": null,
            "padding": null,
            "grid_auto_rows": null,
            "grid_gap": null,
            "max_width": null,
            "order": null,
            "_view_module_version": "1.2.0",
            "grid_template_areas": null,
            "object_position": null,
            "object_fit": null,
            "grid_auto_columns": null,
            "margin": null,
            "display": null,
            "left": null
          }
        },
        "8b457a86f6654dd2adeb2f35e325fcd1": {
          "model_module": "@jupyter-widgets/controls",
          "model_name": "DescriptionStyleModel",
          "state": {
            "_view_name": "StyleView",
            "_model_name": "DescriptionStyleModel",
            "description_width": "",
            "_view_module": "@jupyter-widgets/base",
            "_model_module_version": "1.5.0",
            "_view_count": null,
            "_view_module_version": "1.2.0",
            "_model_module": "@jupyter-widgets/controls"
          }
        },
        "e25f7412e10240a980121b278860132e": {
          "model_module": "@jupyter-widgets/base",
          "model_name": "LayoutModel",
          "state": {
            "_view_name": "LayoutView",
            "grid_template_rows": null,
            "right": null,
            "justify_content": null,
            "_view_module": "@jupyter-widgets/base",
            "overflow": null,
            "_model_module_version": "1.2.0",
            "_view_count": null,
            "flex_flow": null,
            "width": null,
            "min_width": null,
            "border": null,
            "align_items": null,
            "bottom": null,
            "_model_module": "@jupyter-widgets/base",
            "top": null,
            "grid_column": null,
            "overflow_y": null,
            "overflow_x": null,
            "grid_auto_flow": null,
            "grid_area": null,
            "grid_template_columns": null,
            "flex": null,
            "_model_name": "LayoutModel",
            "justify_items": null,
            "grid_row": null,
            "max_height": null,
            "align_content": null,
            "visibility": null,
            "align_self": null,
            "height": null,
            "min_height": null,
            "padding": null,
            "grid_auto_rows": null,
            "grid_gap": null,
            "max_width": null,
            "order": null,
            "_view_module_version": "1.2.0",
            "grid_template_areas": null,
            "object_position": null,
            "object_fit": null,
            "grid_auto_columns": null,
            "margin": null,
            "display": null,
            "left": null
          }
        },
        "bb72b8de8ba44ad890dbe4be29e75e62": {
          "model_module": "@jupyter-widgets/controls",
          "model_name": "HBoxModel",
          "state": {
            "_view_name": "HBoxView",
            "_dom_classes": [],
            "_model_name": "HBoxModel",
            "_view_module": "@jupyter-widgets/controls",
            "_model_module_version": "1.5.0",
            "_view_count": null,
            "_view_module_version": "1.5.0",
            "box_style": "",
            "layout": "IPY_MODEL_6d1336cc599442209ff8c749bc6d91b1",
            "_model_module": "@jupyter-widgets/controls",
            "children": [
              "IPY_MODEL_3542f91b1e9e44f9a9e826964e1b841d",
              "IPY_MODEL_487bc810e5f7453ca16f6d90cddecc0b"
            ]
          }
        },
        "6d1336cc599442209ff8c749bc6d91b1": {
          "model_module": "@jupyter-widgets/base",
          "model_name": "LayoutModel",
          "state": {
            "_view_name": "LayoutView",
            "grid_template_rows": null,
            "right": null,
            "justify_content": null,
            "_view_module": "@jupyter-widgets/base",
            "overflow": null,
            "_model_module_version": "1.2.0",
            "_view_count": null,
            "flex_flow": null,
            "width": null,
            "min_width": null,
            "border": null,
            "align_items": null,
            "bottom": null,
            "_model_module": "@jupyter-widgets/base",
            "top": null,
            "grid_column": null,
            "overflow_y": null,
            "overflow_x": null,
            "grid_auto_flow": null,
            "grid_area": null,
            "grid_template_columns": null,
            "flex": null,
            "_model_name": "LayoutModel",
            "justify_items": null,
            "grid_row": null,
            "max_height": null,
            "align_content": null,
            "visibility": null,
            "align_self": null,
            "height": null,
            "min_height": null,
            "padding": null,
            "grid_auto_rows": null,
            "grid_gap": null,
            "max_width": null,
            "order": null,
            "_view_module_version": "1.2.0",
            "grid_template_areas": null,
            "object_position": null,
            "object_fit": null,
            "grid_auto_columns": null,
            "margin": null,
            "display": null,
            "left": null
          }
        },
        "3542f91b1e9e44f9a9e826964e1b841d": {
          "model_module": "@jupyter-widgets/controls",
          "model_name": "FloatProgressModel",
          "state": {
            "_view_name": "ProgressView",
            "style": "IPY_MODEL_04c1507b6ac04680884dac90a9d02c51",
            "_dom_classes": [],
            "description": "Downloading: 100%",
            "_model_name": "FloatProgressModel",
            "bar_style": "success",
            "max": 1525,
            "_view_module": "@jupyter-widgets/controls",
            "_model_module_version": "1.5.0",
            "value": 1525,
            "_view_count": null,
            "_view_module_version": "1.5.0",
            "orientation": "horizontal",
            "min": 0,
            "description_tooltip": null,
            "_model_module": "@jupyter-widgets/controls",
            "layout": "IPY_MODEL_a5721a83a80a40c49703895397d5c3b8"
          }
        },
        "487bc810e5f7453ca16f6d90cddecc0b": {
          "model_module": "@jupyter-widgets/controls",
          "model_name": "HTMLModel",
          "state": {
            "_view_name": "HTMLView",
            "style": "IPY_MODEL_0ed89ece3ec2469caeac968bc4326636",
            "_dom_classes": [],
            "description": "",
            "_model_name": "HTMLModel",
            "placeholder": "​",
            "_view_module": "@jupyter-widgets/controls",
            "_model_module_version": "1.5.0",
            "value": " 1.52k/1.52k [00:00&lt;00:00, 4.12kB/s]",
            "_view_count": null,
            "_view_module_version": "1.5.0",
            "description_tooltip": null,
            "_model_module": "@jupyter-widgets/controls",
            "layout": "IPY_MODEL_efc1ee1bd3c845859f54e772809101f8"
          }
        },
        "04c1507b6ac04680884dac90a9d02c51": {
          "model_module": "@jupyter-widgets/controls",
          "model_name": "ProgressStyleModel",
          "state": {
            "_view_name": "StyleView",
            "_model_name": "ProgressStyleModel",
            "description_width": "initial",
            "_view_module": "@jupyter-widgets/base",
            "_model_module_version": "1.5.0",
            "_view_count": null,
            "_view_module_version": "1.2.0",
            "bar_color": null,
            "_model_module": "@jupyter-widgets/controls"
          }
        },
        "a5721a83a80a40c49703895397d5c3b8": {
          "model_module": "@jupyter-widgets/base",
          "model_name": "LayoutModel",
          "state": {
            "_view_name": "LayoutView",
            "grid_template_rows": null,
            "right": null,
            "justify_content": null,
            "_view_module": "@jupyter-widgets/base",
            "overflow": null,
            "_model_module_version": "1.2.0",
            "_view_count": null,
            "flex_flow": null,
            "width": null,
            "min_width": null,
            "border": null,
            "align_items": null,
            "bottom": null,
            "_model_module": "@jupyter-widgets/base",
            "top": null,
            "grid_column": null,
            "overflow_y": null,
            "overflow_x": null,
            "grid_auto_flow": null,
            "grid_area": null,
            "grid_template_columns": null,
            "flex": null,
            "_model_name": "LayoutModel",
            "justify_items": null,
            "grid_row": null,
            "max_height": null,
            "align_content": null,
            "visibility": null,
            "align_self": null,
            "height": null,
            "min_height": null,
            "padding": null,
            "grid_auto_rows": null,
            "grid_gap": null,
            "max_width": null,
            "order": null,
            "_view_module_version": "1.2.0",
            "grid_template_areas": null,
            "object_position": null,
            "object_fit": null,
            "grid_auto_columns": null,
            "margin": null,
            "display": null,
            "left": null
          }
        },
        "0ed89ece3ec2469caeac968bc4326636": {
          "model_module": "@jupyter-widgets/controls",
          "model_name": "DescriptionStyleModel",
          "state": {
            "_view_name": "StyleView",
            "_model_name": "DescriptionStyleModel",
            "description_width": "",
            "_view_module": "@jupyter-widgets/base",
            "_model_module_version": "1.5.0",
            "_view_count": null,
            "_view_module_version": "1.2.0",
            "_model_module": "@jupyter-widgets/controls"
          }
        },
        "efc1ee1bd3c845859f54e772809101f8": {
          "model_module": "@jupyter-widgets/base",
          "model_name": "LayoutModel",
          "state": {
            "_view_name": "LayoutView",
            "grid_template_rows": null,
            "right": null,
            "justify_content": null,
            "_view_module": "@jupyter-widgets/base",
            "overflow": null,
            "_model_module_version": "1.2.0",
            "_view_count": null,
            "flex_flow": null,
            "width": null,
            "min_width": null,
            "border": null,
            "align_items": null,
            "bottom": null,
            "_model_module": "@jupyter-widgets/base",
            "top": null,
            "grid_column": null,
            "overflow_y": null,
            "overflow_x": null,
            "grid_auto_flow": null,
            "grid_area": null,
            "grid_template_columns": null,
            "flex": null,
            "_model_name": "LayoutModel",
            "justify_items": null,
            "grid_row": null,
            "max_height": null,
            "align_content": null,
            "visibility": null,
            "align_self": null,
            "height": null,
            "min_height": null,
            "padding": null,
            "grid_auto_rows": null,
            "grid_gap": null,
            "max_width": null,
            "order": null,
            "_view_module_version": "1.2.0",
            "grid_template_areas": null,
            "object_position": null,
            "object_fit": null,
            "grid_auto_columns": null,
            "margin": null,
            "display": null,
            "left": null
          }
        },
        "23a60d0b07fe40c8ba5fe4d6ab319973": {
          "model_module": "@jupyter-widgets/controls",
          "model_name": "HBoxModel",
          "state": {
            "_view_name": "HBoxView",
            "_dom_classes": [],
            "_model_name": "HBoxModel",
            "_view_module": "@jupyter-widgets/controls",
            "_model_module_version": "1.5.0",
            "_view_count": null,
            "_view_module_version": "1.5.0",
            "box_style": "",
            "layout": "IPY_MODEL_153999d599aa4c11877775bd47d25461",
            "_model_module": "@jupyter-widgets/controls",
            "children": [
              "IPY_MODEL_1ea691a009e646c79b5ae7c3f6994b4d",
              "IPY_MODEL_b87068a54d4d411b80ed5f0fdc4412c6"
            ]
          }
        },
        "153999d599aa4c11877775bd47d25461": {
          "model_module": "@jupyter-widgets/base",
          "model_name": "LayoutModel",
          "state": {
            "_view_name": "LayoutView",
            "grid_template_rows": null,
            "right": null,
            "justify_content": null,
            "_view_module": "@jupyter-widgets/base",
            "overflow": null,
            "_model_module_version": "1.2.0",
            "_view_count": null,
            "flex_flow": null,
            "width": null,
            "min_width": null,
            "border": null,
            "align_items": null,
            "bottom": null,
            "_model_module": "@jupyter-widgets/base",
            "top": null,
            "grid_column": null,
            "overflow_y": null,
            "overflow_x": null,
            "grid_auto_flow": null,
            "grid_area": null,
            "grid_template_columns": null,
            "flex": null,
            "_model_name": "LayoutModel",
            "justify_items": null,
            "grid_row": null,
            "max_height": null,
            "align_content": null,
            "visibility": null,
            "align_self": null,
            "height": null,
            "min_height": null,
            "padding": null,
            "grid_auto_rows": null,
            "grid_gap": null,
            "max_width": null,
            "order": null,
            "_view_module_version": "1.2.0",
            "grid_template_areas": null,
            "object_position": null,
            "object_fit": null,
            "grid_auto_columns": null,
            "margin": null,
            "display": null,
            "left": null
          }
        },
        "1ea691a009e646c79b5ae7c3f6994b4d": {
          "model_module": "@jupyter-widgets/controls",
          "model_name": "FloatProgressModel",
          "state": {
            "_view_name": "ProgressView",
            "style": "IPY_MODEL_f6bc58307aeb44889aec1f898970dbed",
            "_dom_classes": [],
            "description": "Downloading: 100%",
            "_model_name": "FloatProgressModel",
            "bar_style": "success",
            "max": 1018571383,
            "_view_module": "@jupyter-widgets/controls",
            "_model_module_version": "1.5.0",
            "value": 1018571383,
            "_view_count": null,
            "_view_module_version": "1.5.0",
            "orientation": "horizontal",
            "min": 0,
            "description_tooltip": null,
            "_model_module": "@jupyter-widgets/controls",
            "layout": "IPY_MODEL_9cc695b67e994ac1bfc35417998af305"
          }
        },
        "b87068a54d4d411b80ed5f0fdc4412c6": {
          "model_module": "@jupyter-widgets/controls",
          "model_name": "HTMLModel",
          "state": {
            "_view_name": "HTMLView",
            "style": "IPY_MODEL_3d9eb8599e3c46e4bd5890c8b6cf2074",
            "_dom_classes": [],
            "description": "",
            "_model_name": "HTMLModel",
            "placeholder": "​",
            "_view_module": "@jupyter-widgets/controls",
            "_model_module_version": "1.5.0",
            "value": " 1.02G/1.02G [00:16&lt;00:00, 60.7MB/s]",
            "_view_count": null,
            "_view_module_version": "1.5.0",
            "description_tooltip": null,
            "_model_module": "@jupyter-widgets/controls",
            "layout": "IPY_MODEL_a6b14a2245524f90a6ae84c7f25c010f"
          }
        },
        "f6bc58307aeb44889aec1f898970dbed": {
          "model_module": "@jupyter-widgets/controls",
          "model_name": "ProgressStyleModel",
          "state": {
            "_view_name": "StyleView",
            "_model_name": "ProgressStyleModel",
            "description_width": "initial",
            "_view_module": "@jupyter-widgets/base",
            "_model_module_version": "1.5.0",
            "_view_count": null,
            "_view_module_version": "1.2.0",
            "bar_color": null,
            "_model_module": "@jupyter-widgets/controls"
          }
        },
        "9cc695b67e994ac1bfc35417998af305": {
          "model_module": "@jupyter-widgets/base",
          "model_name": "LayoutModel",
          "state": {
            "_view_name": "LayoutView",
            "grid_template_rows": null,
            "right": null,
            "justify_content": null,
            "_view_module": "@jupyter-widgets/base",
            "overflow": null,
            "_model_module_version": "1.2.0",
            "_view_count": null,
            "flex_flow": null,
            "width": null,
            "min_width": null,
            "border": null,
            "align_items": null,
            "bottom": null,
            "_model_module": "@jupyter-widgets/base",
            "top": null,
            "grid_column": null,
            "overflow_y": null,
            "overflow_x": null,
            "grid_auto_flow": null,
            "grid_area": null,
            "grid_template_columns": null,
            "flex": null,
            "_model_name": "LayoutModel",
            "justify_items": null,
            "grid_row": null,
            "max_height": null,
            "align_content": null,
            "visibility": null,
            "align_self": null,
            "height": null,
            "min_height": null,
            "padding": null,
            "grid_auto_rows": null,
            "grid_gap": null,
            "max_width": null,
            "order": null,
            "_view_module_version": "1.2.0",
            "grid_template_areas": null,
            "object_position": null,
            "object_fit": null,
            "grid_auto_columns": null,
            "margin": null,
            "display": null,
            "left": null
          }
        },
        "3d9eb8599e3c46e4bd5890c8b6cf2074": {
          "model_module": "@jupyter-widgets/controls",
          "model_name": "DescriptionStyleModel",
          "state": {
            "_view_name": "StyleView",
            "_model_name": "DescriptionStyleModel",
            "description_width": "",
            "_view_module": "@jupyter-widgets/base",
            "_model_module_version": "1.5.0",
            "_view_count": null,
            "_view_module_version": "1.2.0",
            "_model_module": "@jupyter-widgets/controls"
          }
        },
        "a6b14a2245524f90a6ae84c7f25c010f": {
          "model_module": "@jupyter-widgets/base",
          "model_name": "LayoutModel",
          "state": {
            "_view_name": "LayoutView",
            "grid_template_rows": null,
            "right": null,
            "justify_content": null,
            "_view_module": "@jupyter-widgets/base",
            "overflow": null,
            "_model_module_version": "1.2.0",
            "_view_count": null,
            "flex_flow": null,
            "width": null,
            "min_width": null,
            "border": null,
            "align_items": null,
            "bottom": null,
            "_model_module": "@jupyter-widgets/base",
            "top": null,
            "grid_column": null,
            "overflow_y": null,
            "overflow_x": null,
            "grid_auto_flow": null,
            "grid_area": null,
            "grid_template_columns": null,
            "flex": null,
            "_model_name": "LayoutModel",
            "justify_items": null,
            "grid_row": null,
            "max_height": null,
            "align_content": null,
            "visibility": null,
            "align_self": null,
            "height": null,
            "min_height": null,
            "padding": null,
            "grid_auto_rows": null,
            "grid_gap": null,
            "max_width": null,
            "order": null,
            "_view_module_version": "1.2.0",
            "grid_template_areas": null,
            "object_position": null,
            "object_fit": null,
            "grid_auto_columns": null,
            "margin": null,
            "display": null,
            "left": null
          }
        },
        "516ffde2575c41b38b2c736b4ac93504": {
          "model_module": "@jupyter-widgets/controls",
          "model_name": "HBoxModel",
          "state": {
            "_view_name": "HBoxView",
            "_dom_classes": [],
            "_model_name": "HBoxModel",
            "_view_module": "@jupyter-widgets/controls",
            "_model_module_version": "1.5.0",
            "_view_count": null,
            "_view_module_version": "1.5.0",
            "box_style": "",
            "layout": "IPY_MODEL_206c08b886c24c9492fce3a7010b228d",
            "_model_module": "@jupyter-widgets/controls",
            "children": [
              "IPY_MODEL_1c0a8f1e493c46d9be323cf6c1218c68",
              "IPY_MODEL_02b6bc4fc54e438886058bf7abd932d2"
            ]
          }
        },
        "206c08b886c24c9492fce3a7010b228d": {
          "model_module": "@jupyter-widgets/base",
          "model_name": "LayoutModel",
          "state": {
            "_view_name": "LayoutView",
            "grid_template_rows": null,
            "right": null,
            "justify_content": null,
            "_view_module": "@jupyter-widgets/base",
            "overflow": null,
            "_model_module_version": "1.2.0",
            "_view_count": null,
            "flex_flow": null,
            "width": null,
            "min_width": null,
            "border": null,
            "align_items": null,
            "bottom": null,
            "_model_module": "@jupyter-widgets/base",
            "top": null,
            "grid_column": null,
            "overflow_y": null,
            "overflow_x": null,
            "grid_auto_flow": null,
            "grid_area": null,
            "grid_template_columns": null,
            "flex": null,
            "_model_name": "LayoutModel",
            "justify_items": null,
            "grid_row": null,
            "max_height": null,
            "align_content": null,
            "visibility": null,
            "align_self": null,
            "height": null,
            "min_height": null,
            "padding": null,
            "grid_auto_rows": null,
            "grid_gap": null,
            "max_width": null,
            "order": null,
            "_view_module_version": "1.2.0",
            "grid_template_areas": null,
            "object_position": null,
            "object_fit": null,
            "grid_auto_columns": null,
            "margin": null,
            "display": null,
            "left": null
          }
        },
        "1c0a8f1e493c46d9be323cf6c1218c68": {
          "model_module": "@jupyter-widgets/controls",
          "model_name": "FloatProgressModel",
          "state": {
            "_view_name": "ProgressView",
            "style": "IPY_MODEL_48d4a0007332494fb3650f886ff75baa",
            "_dom_classes": [],
            "description": "Downloading: 100%",
            "_model_name": "FloatProgressModel",
            "bar_style": "success",
            "max": 898823,
            "_view_module": "@jupyter-widgets/controls",
            "_model_module_version": "1.5.0",
            "value": 898823,
            "_view_count": null,
            "_view_module_version": "1.5.0",
            "orientation": "horizontal",
            "min": 0,
            "description_tooltip": null,
            "_model_module": "@jupyter-widgets/controls",
            "layout": "IPY_MODEL_249387c9db5e45e6bfcc9389cfa135c5"
          }
        },
        "02b6bc4fc54e438886058bf7abd932d2": {
          "model_module": "@jupyter-widgets/controls",
          "model_name": "HTMLModel",
          "state": {
            "_view_name": "HTMLView",
            "style": "IPY_MODEL_5cf46ecbe05a44b29f27f225b2169b10",
            "_dom_classes": [],
            "description": "",
            "_model_name": "HTMLModel",
            "placeholder": "​",
            "_view_module": "@jupyter-widgets/controls",
            "_model_module_version": "1.5.0",
            "value": " 899k/899k [00:01&lt;00:00, 591kB/s]",
            "_view_count": null,
            "_view_module_version": "1.5.0",
            "description_tooltip": null,
            "_model_module": "@jupyter-widgets/controls",
            "layout": "IPY_MODEL_f83792862fbc458f939d33b9cdf084ca"
          }
        },
        "48d4a0007332494fb3650f886ff75baa": {
          "model_module": "@jupyter-widgets/controls",
          "model_name": "ProgressStyleModel",
          "state": {
            "_view_name": "StyleView",
            "_model_name": "ProgressStyleModel",
            "description_width": "initial",
            "_view_module": "@jupyter-widgets/base",
            "_model_module_version": "1.5.0",
            "_view_count": null,
            "_view_module_version": "1.2.0",
            "bar_color": null,
            "_model_module": "@jupyter-widgets/controls"
          }
        },
        "249387c9db5e45e6bfcc9389cfa135c5": {
          "model_module": "@jupyter-widgets/base",
          "model_name": "LayoutModel",
          "state": {
            "_view_name": "LayoutView",
            "grid_template_rows": null,
            "right": null,
            "justify_content": null,
            "_view_module": "@jupyter-widgets/base",
            "overflow": null,
            "_model_module_version": "1.2.0",
            "_view_count": null,
            "flex_flow": null,
            "width": null,
            "min_width": null,
            "border": null,
            "align_items": null,
            "bottom": null,
            "_model_module": "@jupyter-widgets/base",
            "top": null,
            "grid_column": null,
            "overflow_y": null,
            "overflow_x": null,
            "grid_auto_flow": null,
            "grid_area": null,
            "grid_template_columns": null,
            "flex": null,
            "_model_name": "LayoutModel",
            "justify_items": null,
            "grid_row": null,
            "max_height": null,
            "align_content": null,
            "visibility": null,
            "align_self": null,
            "height": null,
            "min_height": null,
            "padding": null,
            "grid_auto_rows": null,
            "grid_gap": null,
            "max_width": null,
            "order": null,
            "_view_module_version": "1.2.0",
            "grid_template_areas": null,
            "object_position": null,
            "object_fit": null,
            "grid_auto_columns": null,
            "margin": null,
            "display": null,
            "left": null
          }
        },
        "5cf46ecbe05a44b29f27f225b2169b10": {
          "model_module": "@jupyter-widgets/controls",
          "model_name": "DescriptionStyleModel",
          "state": {
            "_view_name": "StyleView",
            "_model_name": "DescriptionStyleModel",
            "description_width": "",
            "_view_module": "@jupyter-widgets/base",
            "_model_module_version": "1.5.0",
            "_view_count": null,
            "_view_module_version": "1.2.0",
            "_model_module": "@jupyter-widgets/controls"
          }
        },
        "f83792862fbc458f939d33b9cdf084ca": {
          "model_module": "@jupyter-widgets/base",
          "model_name": "LayoutModel",
          "state": {
            "_view_name": "LayoutView",
            "grid_template_rows": null,
            "right": null,
            "justify_content": null,
            "_view_module": "@jupyter-widgets/base",
            "overflow": null,
            "_model_module_version": "1.2.0",
            "_view_count": null,
            "flex_flow": null,
            "width": null,
            "min_width": null,
            "border": null,
            "align_items": null,
            "bottom": null,
            "_model_module": "@jupyter-widgets/base",
            "top": null,
            "grid_column": null,
            "overflow_y": null,
            "overflow_x": null,
            "grid_auto_flow": null,
            "grid_area": null,
            "grid_template_columns": null,
            "flex": null,
            "_model_name": "LayoutModel",
            "justify_items": null,
            "grid_row": null,
            "max_height": null,
            "align_content": null,
            "visibility": null,
            "align_self": null,
            "height": null,
            "min_height": null,
            "padding": null,
            "grid_auto_rows": null,
            "grid_gap": null,
            "max_width": null,
            "order": null,
            "_view_module_version": "1.2.0",
            "grid_template_areas": null,
            "object_position": null,
            "object_fit": null,
            "grid_auto_columns": null,
            "margin": null,
            "display": null,
            "left": null
          }
        },
        "6cb208e584354c858bc0e36ea9109d75": {
          "model_module": "@jupyter-widgets/controls",
          "model_name": "HBoxModel",
          "state": {
            "_view_name": "HBoxView",
            "_dom_classes": [],
            "_model_name": "HBoxModel",
            "_view_module": "@jupyter-widgets/controls",
            "_model_module_version": "1.5.0",
            "_view_count": null,
            "_view_module_version": "1.5.0",
            "box_style": "",
            "layout": "IPY_MODEL_82c132bd4c764ce7933afdb236102830",
            "_model_module": "@jupyter-widgets/controls",
            "children": [
              "IPY_MODEL_2161618789f0486fb3198c297bd2b176",
              "IPY_MODEL_8662aeab6de34453abf9a9df65f0caca"
            ]
          }
        },
        "82c132bd4c764ce7933afdb236102830": {
          "model_module": "@jupyter-widgets/base",
          "model_name": "LayoutModel",
          "state": {
            "_view_name": "LayoutView",
            "grid_template_rows": null,
            "right": null,
            "justify_content": null,
            "_view_module": "@jupyter-widgets/base",
            "overflow": null,
            "_model_module_version": "1.2.0",
            "_view_count": null,
            "flex_flow": null,
            "width": null,
            "min_width": null,
            "border": null,
            "align_items": null,
            "bottom": null,
            "_model_module": "@jupyter-widgets/base",
            "top": null,
            "grid_column": null,
            "overflow_y": null,
            "overflow_x": null,
            "grid_auto_flow": null,
            "grid_area": null,
            "grid_template_columns": null,
            "flex": null,
            "_model_name": "LayoutModel",
            "justify_items": null,
            "grid_row": null,
            "max_height": null,
            "align_content": null,
            "visibility": null,
            "align_self": null,
            "height": null,
            "min_height": null,
            "padding": null,
            "grid_auto_rows": null,
            "grid_gap": null,
            "max_width": null,
            "order": null,
            "_view_module_version": "1.2.0",
            "grid_template_areas": null,
            "object_position": null,
            "object_fit": null,
            "grid_auto_columns": null,
            "margin": null,
            "display": null,
            "left": null
          }
        },
        "2161618789f0486fb3198c297bd2b176": {
          "model_module": "@jupyter-widgets/controls",
          "model_name": "FloatProgressModel",
          "state": {
            "_view_name": "ProgressView",
            "style": "IPY_MODEL_e019f7c266dc4964897626750c6b241f",
            "_dom_classes": [],
            "description": "Downloading: 100%",
            "_model_name": "FloatProgressModel",
            "bar_style": "success",
            "max": 456318,
            "_view_module": "@jupyter-widgets/controls",
            "_model_module_version": "1.5.0",
            "value": 456318,
            "_view_count": null,
            "_view_module_version": "1.5.0",
            "orientation": "horizontal",
            "min": 0,
            "description_tooltip": null,
            "_model_module": "@jupyter-widgets/controls",
            "layout": "IPY_MODEL_b5fda25b2ae841f1b4b77b0e8371ab56"
          }
        },
        "8662aeab6de34453abf9a9df65f0caca": {
          "model_module": "@jupyter-widgets/controls",
          "model_name": "HTMLModel",
          "state": {
            "_view_name": "HTMLView",
            "style": "IPY_MODEL_fdd9f961aab44176af8071e9088b5aaa",
            "_dom_classes": [],
            "description": "",
            "_model_name": "HTMLModel",
            "placeholder": "​",
            "_view_module": "@jupyter-widgets/controls",
            "_model_module_version": "1.5.0",
            "value": " 456k/456k [00:00&lt;00:00, 975kB/s]",
            "_view_count": null,
            "_view_module_version": "1.5.0",
            "description_tooltip": null,
            "_model_module": "@jupyter-widgets/controls",
            "layout": "IPY_MODEL_ca4f2342b7254891b09cba6680c25705"
          }
        },
        "e019f7c266dc4964897626750c6b241f": {
          "model_module": "@jupyter-widgets/controls",
          "model_name": "ProgressStyleModel",
          "state": {
            "_view_name": "StyleView",
            "_model_name": "ProgressStyleModel",
            "description_width": "initial",
            "_view_module": "@jupyter-widgets/base",
            "_model_module_version": "1.5.0",
            "_view_count": null,
            "_view_module_version": "1.2.0",
            "bar_color": null,
            "_model_module": "@jupyter-widgets/controls"
          }
        },
        "b5fda25b2ae841f1b4b77b0e8371ab56": {
          "model_module": "@jupyter-widgets/base",
          "model_name": "LayoutModel",
          "state": {
            "_view_name": "LayoutView",
            "grid_template_rows": null,
            "right": null,
            "justify_content": null,
            "_view_module": "@jupyter-widgets/base",
            "overflow": null,
            "_model_module_version": "1.2.0",
            "_view_count": null,
            "flex_flow": null,
            "width": null,
            "min_width": null,
            "border": null,
            "align_items": null,
            "bottom": null,
            "_model_module": "@jupyter-widgets/base",
            "top": null,
            "grid_column": null,
            "overflow_y": null,
            "overflow_x": null,
            "grid_auto_flow": null,
            "grid_area": null,
            "grid_template_columns": null,
            "flex": null,
            "_model_name": "LayoutModel",
            "justify_items": null,
            "grid_row": null,
            "max_height": null,
            "align_content": null,
            "visibility": null,
            "align_self": null,
            "height": null,
            "min_height": null,
            "padding": null,
            "grid_auto_rows": null,
            "grid_gap": null,
            "max_width": null,
            "order": null,
            "_view_module_version": "1.2.0",
            "grid_template_areas": null,
            "object_position": null,
            "object_fit": null,
            "grid_auto_columns": null,
            "margin": null,
            "display": null,
            "left": null
          }
        },
        "fdd9f961aab44176af8071e9088b5aaa": {
          "model_module": "@jupyter-widgets/controls",
          "model_name": "DescriptionStyleModel",
          "state": {
            "_view_name": "StyleView",
            "_model_name": "DescriptionStyleModel",
            "description_width": "",
            "_view_module": "@jupyter-widgets/base",
            "_model_module_version": "1.5.0",
            "_view_count": null,
            "_view_module_version": "1.2.0",
            "_model_module": "@jupyter-widgets/controls"
          }
        },
        "ca4f2342b7254891b09cba6680c25705": {
          "model_module": "@jupyter-widgets/base",
          "model_name": "LayoutModel",
          "state": {
            "_view_name": "LayoutView",
            "grid_template_rows": null,
            "right": null,
            "justify_content": null,
            "_view_module": "@jupyter-widgets/base",
            "overflow": null,
            "_model_module_version": "1.2.0",
            "_view_count": null,
            "flex_flow": null,
            "width": null,
            "min_width": null,
            "border": null,
            "align_items": null,
            "bottom": null,
            "_model_module": "@jupyter-widgets/base",
            "top": null,
            "grid_column": null,
            "overflow_y": null,
            "overflow_x": null,
            "grid_auto_flow": null,
            "grid_area": null,
            "grid_template_columns": null,
            "flex": null,
            "_model_name": "LayoutModel",
            "justify_items": null,
            "grid_row": null,
            "max_height": null,
            "align_content": null,
            "visibility": null,
            "align_self": null,
            "height": null,
            "min_height": null,
            "padding": null,
            "grid_auto_rows": null,
            "grid_gap": null,
            "max_width": null,
            "order": null,
            "_view_module_version": "1.2.0",
            "grid_template_areas": null,
            "object_position": null,
            "object_fit": null,
            "grid_auto_columns": null,
            "margin": null,
            "display": null,
            "left": null
          }
        }
      }
    }
  },
  "cells": [
    {
      "cell_type": "markdown",
      "metadata": {
        "id": "view-in-github",
        "colab_type": "text"
      },
      "source": [
        "<a href=\"https://colab.research.google.com/github/mayaschwarz/cs175--lfric-to-Albert/blob/main/HuggingfaceBartTransformer.ipynb\" target=\"_parent\"><img src=\"https://colab.research.google.com/assets/colab-badge.svg\" alt=\"Open In Colab\"/></a>"
      ]
    },
    {
      "cell_type": "markdown",
      "metadata": {
        "id": "aBxHpAcPrKuo"
      },
      "source": [
        "# Transformer Training and Evaluating Notebook"
      ]
    },
    {
      "cell_type": "markdown",
      "metadata": {
        "id": "QQr4V79WrVxc"
      },
      "source": [
        "This was designed to be run directly from Google Colab, your mileage may vary if run from elsewhere."
      ]
    },
    {
      "cell_type": "markdown",
      "metadata": {
        "id": "FOaukFEerTxm"
      },
      "source": [
        "## Setup"
      ]
    },
    {
      "cell_type": "markdown",
      "metadata": {
        "id": "ssWkriPVrW3-"
      },
      "source": [
        "Skip this step if running locally.\n",
        "\n",
        "\n",
        "This code will use a model and some helper files that are stored in a GitHub repository. The repository will be cloned temporarily."
      ]
    },
    {
      "cell_type": "code",
      "metadata": {
        "colab": {
          "base_uri": "https://localhost:8080/"
        },
        "id": "rKkXnnTJbM6d",
        "outputId": "22ea40b8-7f95-4c7e-83cc-2858b46bd7ce"
      },
      "source": [
        "!git clone https://github.com/mayaschwarz/cs175--lfric-to-Albert.git git/\n",
        "%cd git/"
      ],
      "execution_count": 1,
      "outputs": [
        {
          "output_type": "stream",
          "text": [
            "Cloning into 'git'...\n",
            "remote: Enumerating objects: 180, done.\u001b[K\n",
            "remote: Counting objects: 100% (180/180), done.\u001b[K\n",
            "remote: Compressing objects: 100% (123/123), done.\u001b[K\n",
            "remote: Total 425 (delta 91), reused 128 (delta 55), pack-reused 245\u001b[K\n",
            "Receiving objects: 100% (425/425), 58.03 MiB | 27.92 MiB/s, done.\n",
            "Resolving deltas: 100% (176/176), done.\n",
            "/content/git\n"
          ],
          "name": "stdout"
        }
      ]
    },
    {
      "cell_type": "code",
      "metadata": {
        "id": "XNL12PzsrfuM"
      },
      "source": [
        "# Install once, then restart the runtime\n",
        "!pip install -r requirements.txt > /dev/null 2> /dev/null"
      ],
      "execution_count": 2,
      "outputs": []
    },
    {
      "cell_type": "markdown",
      "metadata": {
        "id": "nC__FVDQriBl"
      },
      "source": [
        "#### IMPORTANT\n",
        "\n",
        "Be sure to restart (**not** factory reset) the runtime after running the above cell. Then continue running the code below. To do this, click on Runtime -> Restart runtime. You do not need to do the `pip install`s again."
      ]
    },
    {
      "cell_type": "code",
      "metadata": {
        "colab": {
          "base_uri": "https://localhost:8080/"
        },
        "id": "ugeSqMa1rwkS",
        "outputId": "a2bdd628-d5e1-44e9-b163-59ba90070efa"
      },
      "source": [
        "%cd git/"
      ],
      "execution_count": 1,
      "outputs": [
        {
          "output_type": "stream",
          "text": [
            "/content/git\n"
          ],
          "name": "stdout"
        }
      ]
    },
    {
      "cell_type": "markdown",
      "metadata": {
        "id": "mE_a9VHqr5Fg"
      },
      "source": [
        "Import necessary modules"
      ]
    },
    {
      "cell_type": "code",
      "metadata": {
        "colab": {
          "base_uri": "https://localhost:8080/",
          "height": 100,
          "referenced_widgets": [
            "6a53fb9eac8845a2825e595749980356",
            "89f8754e0e1a416a8e2abd4578ea098a",
            "5601dd5ab6f14a0988804d1b373f0c8f",
            "b4f3c7ef3e6548799209ae8c39522449",
            "2cc943baf45442bab32d3b5850322037",
            "9a24e202b9364bb9b2084726da684f40",
            "8b457a86f6654dd2adeb2f35e325fcd1",
            "e25f7412e10240a980121b278860132e"
          ]
        },
        "id": "MNj9cx216vqT",
        "outputId": "37972b6c-e3dd-4242-aed0-97f7c4f1fb4a"
      },
      "source": [
        "from datasets import load_dataset\n",
        "import datasets as metric_datasets\n",
        "from transformers import (\n",
        "    BartForConditionalGeneration, BartTokenizer,\n",
        "    Seq2SeqTrainingArguments, Seq2SeqTrainer\n",
        ")\n",
        "\n",
        "import torch\n",
        "meteor_metric = metric_datasets.load_metric('meteor')\n",
        "\n",
        "from src.data_manager import *"
      ],
      "execution_count": 2,
      "outputs": [
        {
          "output_type": "display_data",
          "data": {
            "application/vnd.jupyter.widget-view+json": {
              "model_id": "6a53fb9eac8845a2825e595749980356",
              "version_minor": 0,
              "version_major": 2
            },
            "text/plain": [
              "HBox(children=(FloatProgress(value=0.0, description='Downloading', max=2055.0, style=ProgressStyle(description…"
            ]
          },
          "metadata": {
            "tags": []
          }
        },
        {
          "output_type": "stream",
          "text": [
            "\n"
          ],
          "name": "stdout"
        },
        {
          "output_type": "stream",
          "text": [
            "[nltk_data] Downloading package wordnet to /root/nltk_data...\n",
            "[nltk_data]   Unzipping corpora/wordnet.zip.\n"
          ],
          "name": "stderr"
        }
      ]
    },
    {
      "cell_type": "markdown",
      "metadata": {
        "id": "YwpsSs-ef3Cc"
      },
      "source": [
        "## Preparing data"
      ]
    },
    {
      "cell_type": "markdown",
      "metadata": {
        "id": "_-JRw7LqRRGf"
      },
      "source": [
        "First, pick which bible versions should be the source and target version, where the model will learn to translate verses from the source version to the target version. This works for any of the 7 Modern English versions in our corpora, namely: `t_asv`, `t_bbe`, `t_dby`, `t_kjv`, `t_wbt`, `t_web`, and `t_ylt`.\n",
        "\n",
        "Then, decide how you wish to normalize your text.\n",
        "\n",
        "Finally, decide what your maximum number of words should be per verse."
      ]
    },
    {
      "cell_type": "code",
      "metadata": {
        "id": "o9k0-g_-e3BU"
      },
      "source": [
        "source_version, target_version = 't_kjv', 't_bbe'\n",
        "lowercase_text = False\n",
        "no_punctuation = False\n",
        "MAX_NUM_WORDS = 40"
      ],
      "execution_count": 3,
      "outputs": []
    },
    {
      "cell_type": "code",
      "metadata": {
        "colab": {
          "base_uri": "https://localhost:8080/"
        },
        "id": "rvH4UchNBOrl",
        "outputId": "6dd09ad6-1abf-45c8-d7de-ac425da4ff33"
      },
      "source": [
        "# Set up the datasets\n",
        "versions = get_bible_versions_by_file_name([source_version, target_version])\n",
        "\n",
        "preprocess_operations = [preprocess_filter_num_words(MAX_NUM_WORDS)]\n",
        "\n",
        "if lowercase_text:\n",
        "    preprocess_operations.append(preprocess_lowercase())\n",
        "\n",
        "if no_punctuation:\n",
        "    preprocess_operations.append(preprocess_remove_punctuation(preserve_periods = False))\n",
        "\n",
        "datasets = create_datasets(versions, 0.85, preprocess_operations = preprocess_operations, write_files = False)"
      ],
      "execution_count": 4,
      "outputs": [
        {
          "output_type": "stream",
          "text": [
            "Finding shared verses between 2 versions...        done in 0.363 seconds\n",
            "Run preprocess operations...                       done in 0.097 seconds\n",
            "Separate test verses...                            done in 0.014 seconds\n",
            "Separate validation verses...                      done in 0.029 seconds\n",
            "Zip together verses (shuffle = True)...            done in 0.045 seconds\n",
            "\n",
            "# verses before preprocessing:  31,048\n",
            "# verses after  preprocessing:  26,468 (85%)\n",
            "\n",
            "\n",
            "# training verses:    19,071 (72%)\n",
            "# validation verses:   3,366 (13%)\n",
            "# test verses:         4,031 (15%)\n"
          ],
          "name": "stdout"
        }
      ]
    },
    {
      "cell_type": "code",
      "metadata": {
        "id": "8ru98nUwhXtw"
      },
      "source": [
        "def zip_data(dataset: dict) -> [dict]:\n",
        "    \"\"\"\n",
        "    Returns a zipped list containing both the source and target versions for each verse in the dataset.\n",
        "\n",
        "    Arguments:\n",
        "        dataset: {dict} -- a single dataset returned by create_datasets or load_datasets\n",
        "\n",
        "    Returns:\n",
        "        [\n",
        "            {\n",
        "                't_bbe': 'and pilate gave his decision for their desire to be put into effect',\n",
        "                't_kjv': 'and pilate gave sentence that it should be as they required'\n",
        "            },\n",
        "            {\n",
        "                't_bbe': 'for these are the days of punishment in which all the things in the writings will be put into effect',\n",
        "                't_kjv': 'for these be the days of vengeance that all things which are written may be fulfilled'\n",
        "            },\n",
        "            ...\n",
        "        ]\n",
        "    \"\"\"\n",
        "    zipped_data = list()\n",
        "    for source_line, target_line in zip(dataset[source_version], dataset[target_version]):\n",
        "        zipped_data.append({\n",
        "            source_version: source_line,\n",
        "            target_version: target_line,\n",
        "        })\n",
        "\n",
        "    return zipped_data"
      ],
      "execution_count": 5,
      "outputs": []
    },
    {
      "cell_type": "code",
      "metadata": {
        "id": "K6Enm48ygcVl"
      },
      "source": [
        "training_data = zip_data(datasets['training'])\n",
        "validation_data = zip_data(datasets['validation'])\n",
        "test_data = zip_data(datasets['test'])"
      ],
      "execution_count": 6,
      "outputs": []
    },
    {
      "cell_type": "code",
      "metadata": {
        "colab": {
          "base_uri": "https://localhost:8080/"
        },
        "id": "4gEO3-OOX5PS",
        "outputId": "9f09df30-4315-4818-f1cd-594a9dc3ab5c"
      },
      "source": [
        "# Take a look at some of the data to see if it looks as expected\n",
        "test_data[:3]"
      ],
      "execution_count": 7,
      "outputs": [
        {
          "output_type": "execute_result",
          "data": {
            "text/plain": [
              "[{'t_bbe': 'Now the Midianites and the Amalekites and all the people of the east were covering the valley like locusts; and their camels were like the sand by the seaside, without number.',\n",
              "  't_kjv': 'And the Midianites and the Amalekites and all the children of the east lay along in the valley like grasshoppers for multitude; and their camels were without number, as the sand by the sea side for multitude.'},\n",
              " {'t_bbe': \"And Eliphaz, the son of Esau, had connection with a woman named Timna, who gave birth to Amalek: all these were the children of Esau's wife Adah.\",\n",
              "  't_kjv': \"And Timna was concubine to Eliphaz Esau's son; and she bare to Eliphaz Amalek: these were the sons of Adah Esau's wife.\"},\n",
              " {'t_bbe': 'Wives, be under the authority of your husbands, as is right in the Lord.',\n",
              "  't_kjv': 'Wives, submit yourselves unto your own husbands, as it is fit in the Lord.'}]"
            ]
          },
          "metadata": {
            "tags": []
          },
          "execution_count": 7
        }
      ]
    },
    {
      "cell_type": "code",
      "metadata": {
        "id": "6SHzkn_rHdCB"
      },
      "source": [
        "def data_collator(features: list) -> 'batch':\n",
        "    \"\"\"\n",
        "    Creates a sequence-to-sequence training batch, as used by HuggingFace's Seq2SeqTrainer.\n",
        "    \"\"\"\n",
        "    labels = [f[target_version] for f in features]\n",
        "    inputs = [f[source_version] for f in features]\n",
        "\n",
        "    batch = tokenizer.prepare_seq2seq_batch(\n",
        "        src_texts = inputs,\n",
        "        src_lang = 'en_XX',\n",
        "        tgt_lang = 'en_XX',\n",
        "        tgt_texts = labels,\n",
        "        max_length = MAX_NUM_WORDS,\n",
        "        max_target_length = MAX_NUM_WORDS + 5\n",
        "    )\n",
        "\n",
        "    for k in batch:\n",
        "        batch[k] = torch.tensor(batch[k])\n",
        "\n",
        "    return batch"
      ],
      "execution_count": 8,
      "outputs": []
    },
    {
      "cell_type": "code",
      "metadata": {
        "id": "Njsk5l47eay9",
        "colab": {
          "base_uri": "https://localhost:8080/",
          "height": 115,
          "referenced_widgets": [
            "bb72b8de8ba44ad890dbe4be29e75e62",
            "6d1336cc599442209ff8c749bc6d91b1",
            "3542f91b1e9e44f9a9e826964e1b841d",
            "487bc810e5f7453ca16f6d90cddecc0b",
            "04c1507b6ac04680884dac90a9d02c51",
            "a5721a83a80a40c49703895397d5c3b8",
            "0ed89ece3ec2469caeac968bc4326636",
            "efc1ee1bd3c845859f54e772809101f8",
            "23a60d0b07fe40c8ba5fe4d6ab319973",
            "153999d599aa4c11877775bd47d25461",
            "1ea691a009e646c79b5ae7c3f6994b4d",
            "b87068a54d4d411b80ed5f0fdc4412c6",
            "f6bc58307aeb44889aec1f898970dbed",
            "9cc695b67e994ac1bfc35417998af305",
            "3d9eb8599e3c46e4bd5890c8b6cf2074",
            "a6b14a2245524f90a6ae84c7f25c010f"
          ]
        },
        "outputId": "c7421f2b-9d32-43e1-c5c5-8f9198a60620"
      },
      "source": [
        "# Load a pre-trained sequence-to-sequence model. This model will be fine-tuned.\n",
        "model = BartForConditionalGeneration.from_pretrained('facebook/bart-large')"
      ],
      "execution_count": 9,
      "outputs": [
        {
          "output_type": "display_data",
          "data": {
            "application/vnd.jupyter.widget-view+json": {
              "model_id": "bb72b8de8ba44ad890dbe4be29e75e62",
              "version_minor": 0,
              "version_major": 2
            },
            "text/plain": [
              "HBox(children=(FloatProgress(value=0.0, description='Downloading', max=1525.0, style=ProgressStyle(description…"
            ]
          },
          "metadata": {
            "tags": []
          }
        },
        {
          "output_type": "stream",
          "text": [
            "\n"
          ],
          "name": "stdout"
        },
        {
          "output_type": "display_data",
          "data": {
            "application/vnd.jupyter.widget-view+json": {
              "model_id": "23a60d0b07fe40c8ba5fe4d6ab319973",
              "version_minor": 0,
              "version_major": 2
            },
            "text/plain": [
              "HBox(children=(FloatProgress(value=0.0, description='Downloading', max=1018571383.0, style=ProgressStyle(descr…"
            ]
          },
          "metadata": {
            "tags": []
          }
        },
        {
          "output_type": "stream",
          "text": [
            "\n"
          ],
          "name": "stdout"
        }
      ]
    },
    {
      "cell_type": "code",
      "metadata": {
        "id": "f5SUfYJ2rvXs",
        "colab": {
          "base_uri": "https://localhost:8080/",
          "height": 115,
          "referenced_widgets": [
            "516ffde2575c41b38b2c736b4ac93504",
            "206c08b886c24c9492fce3a7010b228d",
            "1c0a8f1e493c46d9be323cf6c1218c68",
            "02b6bc4fc54e438886058bf7abd932d2",
            "48d4a0007332494fb3650f886ff75baa",
            "249387c9db5e45e6bfcc9389cfa135c5",
            "5cf46ecbe05a44b29f27f225b2169b10",
            "f83792862fbc458f939d33b9cdf084ca",
            "6cb208e584354c858bc0e36ea9109d75",
            "82c132bd4c764ce7933afdb236102830",
            "2161618789f0486fb3198c297bd2b176",
            "8662aeab6de34453abf9a9df65f0caca",
            "e019f7c266dc4964897626750c6b241f",
            "b5fda25b2ae841f1b4b77b0e8371ab56",
            "fdd9f961aab44176af8071e9088b5aaa",
            "ca4f2342b7254891b09cba6680c25705"
          ]
        },
        "outputId": "e6d777db-709f-478d-a1f8-cb889b08e3b9"
      },
      "source": [
        "# Load a pre-trained sequence-to-sequence tokenizer\n",
        "tokenizer = BartTokenizer.from_pretrained('facebook/bart-large')"
      ],
      "execution_count": 10,
      "outputs": [
        {
          "output_type": "display_data",
          "data": {
            "application/vnd.jupyter.widget-view+json": {
              "model_id": "516ffde2575c41b38b2c736b4ac93504",
              "version_minor": 0,
              "version_major": 2
            },
            "text/plain": [
              "HBox(children=(FloatProgress(value=0.0, description='Downloading', max=898823.0, style=ProgressStyle(descripti…"
            ]
          },
          "metadata": {
            "tags": []
          }
        },
        {
          "output_type": "stream",
          "text": [
            "\n"
          ],
          "name": "stdout"
        },
        {
          "output_type": "display_data",
          "data": {
            "application/vnd.jupyter.widget-view+json": {
              "model_id": "6cb208e584354c858bc0e36ea9109d75",
              "version_minor": 0,
              "version_major": 2
            },
            "text/plain": [
              "HBox(children=(FloatProgress(value=0.0, description='Downloading', max=456318.0, style=ProgressStyle(descripti…"
            ]
          },
          "metadata": {
            "tags": []
          }
        },
        {
          "output_type": "stream",
          "text": [
            "\n"
          ],
          "name": "stdout"
        }
      ]
    },
    {
      "cell_type": "markdown",
      "metadata": {
        "id": "7C19xqP_h9gj"
      },
      "source": [
        "## Initiating model and trainer for training"
      ]
    },
    {
      "cell_type": "code",
      "metadata": {
        "id": "IqKgdnkL_O1h"
      },
      "source": [
        "# defining training related arguments\n",
        "args = Seq2SeqTrainingArguments(output_dir = 'bible-bart',\n",
        "    do_train = True,\n",
        "    do_eval = True,\n",
        "    load_best_model_at_end = True,\n",
        "    evaluation_strategy = 'epoch',\n",
        "    per_device_train_batch_size = 16,\n",
        "    per_device_eval_batch_size = 16,\n",
        "    learning_rate = 1e-5,\n",
        "    num_train_epochs = 3,\n",
        "    logging_dir = '/logs',\n",
        ")"
      ],
      "execution_count": 11,
      "outputs": []
    },
    {
      "cell_type": "code",
      "metadata": {
        "id": "PnPMKdcZ72rI"
      },
      "source": [
        "# defining trainer using 🤗\n",
        "trainer = Seq2SeqTrainer(model = model,\n",
        "    args = args,\n",
        "    data_collator = data_collator,\n",
        "    train_dataset = training_data,\n",
        "    eval_dataset = validation_data,\n",
        ")"
      ],
      "execution_count": 12,
      "outputs": []
    },
    {
      "cell_type": "markdown",
      "metadata": {
        "id": "4gKlnTQphwb7"
      },
      "source": [
        "## Training time"
      ]
    },
    {
      "cell_type": "code",
      "metadata": {
        "colab": {
          "base_uri": "https://localhost:8080/",
          "height": 205
        },
        "id": "tvgIO3vO72xE",
        "outputId": "e8024064-ee98-4bd9-f917-263aa647b58a"
      },
      "source": [
        "# I will take hours to train this model upon this table.\n",
        "trainer.train()"
      ],
      "execution_count": 13,
      "outputs": [
        {
          "output_type": "display_data",
          "data": {
            "text/html": [
              "\n",
              "    <div>\n",
              "        <style>\n",
              "            /* Turns off some styling */\n",
              "            progress {\n",
              "                /* gets rid of default border in Firefox and Opera. */\n",
              "                border: none;\n",
              "                /* Needs to be in here for Safari polyfill so background images work as expected. */\n",
              "                background-size: auto;\n",
              "            }\n",
              "        </style>\n",
              "      \n",
              "      <progress value='3576' max='3576' style='width:300px; height:20px; vertical-align: middle;'></progress>\n",
              "      [3576/3576 18:11, Epoch 3/3]\n",
              "    </div>\n",
              "    <table border=\"1\" class=\"dataframe\">\n",
              "  <thead>\n",
              "    <tr style=\"text-align: left;\">\n",
              "      <th>Epoch</th>\n",
              "      <th>Training Loss</th>\n",
              "      <th>Validation Loss</th>\n",
              "      <th>Runtime</th>\n",
              "      <th>Samples Per Second</th>\n",
              "    </tr>\n",
              "  </thead>\n",
              "  <tbody>\n",
              "    <tr>\n",
              "      <td>1</td>\n",
              "      <td>0.966500</td>\n",
              "      <td>0.825653</td>\n",
              "      <td>11.827300</td>\n",
              "      <td>284.595000</td>\n",
              "    </tr>\n",
              "    <tr>\n",
              "      <td>2</td>\n",
              "      <td>0.817900</td>\n",
              "      <td>0.771257</td>\n",
              "      <td>11.788000</td>\n",
              "      <td>285.544000</td>\n",
              "    </tr>\n",
              "    <tr>\n",
              "      <td>3</td>\n",
              "      <td>0.744000</td>\n",
              "      <td>0.758731</td>\n",
              "      <td>11.865900</td>\n",
              "      <td>283.671000</td>\n",
              "    </tr>\n",
              "  </tbody>\n",
              "</table><p>"
            ],
            "text/plain": [
              "<IPython.core.display.HTML object>"
            ]
          },
          "metadata": {
            "tags": []
          }
        },
        {
          "output_type": "execute_result",
          "data": {
            "text/plain": [
              "TrainOutput(global_step=3576, training_loss=1.0442394644888722, metrics={'train_runtime': 1092.0608, 'train_samples_per_second': 3.275, 'total_flos': 5566316459802624, 'epoch': 3.0})"
            ]
          },
          "metadata": {
            "tags": []
          },
          "execution_count": 13
        }
      ]
    },
    {
      "cell_type": "code",
      "metadata": {
        "id": "Ir26BgPB72z5"
      },
      "source": [
        "model_path = f'bart-{source_version[2:]}-to-{target_version[2:]}'"
      ],
      "execution_count": 14,
      "outputs": []
    },
    {
      "cell_type": "code",
      "metadata": {
        "id": "Zn-D4usZtX3E",
        "colab": {
          "base_uri": "https://localhost:8080/"
        },
        "outputId": "2713ad1c-db37-4d47-f58e-fa3f97eae2ac"
      },
      "source": [
        "# Saved with timestamp to avoid overwriting previous save\n",
        "import time\n",
        "model_path = f'{model_path}-{int(time.time())}'\n",
        "trainer.save_model(model_path)\n",
        "print(f'Saved model at: {model_path}')"
      ],
      "execution_count": 15,
      "outputs": [
        {
          "output_type": "stream",
          "text": [
            "Saved model at: bart-kjv-to-bbe-1615779545\n"
          ],
          "name": "stdout"
        }
      ]
    },
    {
      "cell_type": "markdown",
      "metadata": {
        "id": "kiO2XdD0sQdZ"
      },
      "source": [
        "#### IMPORTANT\n",
        "\n",
        "The model was saved in a temporary location. It will be deleted. If you want to retain the results of your model, either change the model_path to your own Google Drive, or download the model using the Google Colaboratory file system."
      ]
    },
    {
      "cell_type": "code",
      "metadata": {
        "id": "GyyMqgXisx7g"
      },
      "source": [
        "# Load the model on the same device\n",
        "model = BartForConditionalGeneration.from_pretrained(model_path, max_length = 100)"
      ],
      "execution_count": 16,
      "outputs": []
    },
    {
      "cell_type": "markdown",
      "metadata": {
        "id": "LppooIonhYCH"
      },
      "source": [
        "# Inference time\n",
        "Let's load the model from hub and use it for inference using 🤗 pipeline."
      ]
    },
    {
      "cell_type": "code",
      "metadata": {
        "id": "kT4g-cJsKpJO"
      },
      "source": [
        "from transformers import pipeline\n",
        "\n",
        "translator = pipeline(f'translation_{source_version[2:]}_to_{target_version[2:]}', model = model, tokenizer = tokenizer)\n",
        "\n",
        "def translate(text: str) -> str:\n",
        "    # translates a single string\n",
        "    return translator(text, return_text = True)[0]['translation_text']"
      ],
      "execution_count": 17,
      "outputs": []
    },
    {
      "cell_type": "code",
      "metadata": {
        "colab": {
          "base_uri": "https://localhost:8080/",
          "height": 35
        },
        "id": "Q5hN7XDXKpLl",
        "outputId": "2e7ffbc4-3f4d-405d-d810-ed8a126a4d76"
      },
      "source": [
        "# And let us see how our model performeth.\n",
        "translate(\"And the LORD God called unto Adam, and said unto him, Where art thou?\")"
      ],
      "execution_count": 18,
      "outputs": [
        {
          "output_type": "execute_result",
          "data": {
            "application/vnd.google.colaboratory.intrinsic+json": {
              "type": "string"
            },
            "text/plain": [
              "'And the Lord God sent for Adam and said to him, Where are you?'"
            ]
          },
          "metadata": {
            "tags": []
          },
          "execution_count": 18
        }
      ]
    },
    {
      "cell_type": "markdown",
      "metadata": {
        "id": "4ZZWdIu7UqKU"
      },
      "source": [
        "# Evaluation"
      ]
    },
    {
      "cell_type": "markdown",
      "metadata": {
        "id": "udfJ3b59UfwK"
      },
      "source": [
        "Now, let's evaluate our model's performance using METEOR"
      ]
    },
    {
      "cell_type": "code",
      "metadata": {
        "id": "RzIPGMxRb0B0"
      },
      "source": [
        "def translate_all(translator, verses: [str], num_verses: int = 100) -> [str]:\n",
        "    return [verse['translation_text'] for verse in translator(verses[:num_verses], return_text = True)]\n",
        "\n",
        "def compute_meteor_metric(predictions: [str], references: [str]) -> float:\n",
        "    meteor_metric.add_batch(predictions = predictions, references = references)\n",
        "    return meteor_metric.compute()['meteor']\n",
        "\n",
        "def compute_meteor_metric_easy(translator, num_verses: int) -> float:\n",
        "    predictions = translate_all(translator, datasets['test'][source_version], num_verses)\n",
        "    references = datasets['test'][target_version][:num_verses]\n",
        "    return compute_meteor_metric(predictions, references)"
      ],
      "execution_count": 19,
      "outputs": []
    },
    {
      "cell_type": "code",
      "metadata": {
        "colab": {
          "base_uri": "https://localhost:8080/"
        },
        "id": "MyqkjWiiJMRD",
        "outputId": "03488f9a-bfd2-4af7-d5d9-3e599deacecb"
      },
      "source": [
        "print(f'METEOR score = ~{compute_meteor_metric_easy(translator, 100):.4f}')"
      ],
      "execution_count": 20,
      "outputs": [
        {
          "output_type": "stream",
          "text": [
            "METEOR score = ~0.5951\n"
          ],
          "name": "stdout"
        }
      ]
    }
  ]
}