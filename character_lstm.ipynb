{
 "cells": [
  {
   "cell_type": "code",
   "execution_count": 1,
   "metadata": {},
   "outputs": [],
   "source": [
    "import numpy as np\n",
    "import tensorflow as tf\n",
    "from tensorflow import keras"
   ]
  },
  {
   "cell_type": "code",
   "execution_count": 2,
   "metadata": {},
   "outputs": [],
   "source": [
    "from src.data_manager import *"
   ]
  },
  {
   "cell_type": "code",
   "execution_count": 3,
   "metadata": {},
   "outputs": [],
   "source": [
    "versions = get_bible_versions_by_file_name(['t_kjv', 't_bbe'])"
   ]
  },
  {
   "cell_type": "code",
   "execution_count": 4,
   "metadata": {},
   "outputs": [
    {
     "name": "stdout",
     "output_type": "stream",
     "text": [
      "Finding shared verses between 2 versions...        done in 0.405 seconds\n",
      "Separate test verses...                            done in 0.018 seconds\n",
      "Separate validation verses...                      done in 0.028 seconds\n",
      "Zip together verses (shuffle = True)...            done in 0.049 seconds\n",
      "Store datasets to files...                         done in 0.021 seconds\n",
      "\n",
      "# Training Verses:    19,282 (62%)\n",
      "# Validation Verses:       0 (0%)\n",
      "# Test Verses:        11,766 (38%)\n"
     ]
    }
   ],
   "source": [
    "create_datasets(versions, 1.0, write_files = True);"
   ]
  },
  {
   "cell_type": "code",
   "execution_count": 5,
   "metadata": {},
   "outputs": [],
   "source": [
    "datasets = load_datasets()"
   ]
  },
  {
   "cell_type": "code",
   "execution_count": 6,
   "metadata": {},
   "outputs": [],
   "source": [
    "# Configuration\n",
    "batch_size = 64\n",
    "epochs = 10\n",
    "latent_dim = 256\n",
    "num_samples = 5000"
   ]
  },
  {
   "cell_type": "code",
   "execution_count": 7,
   "metadata": {},
   "outputs": [
    {
     "data": {
      "text/plain": [
       "(19282, 19282)"
      ]
     },
     "execution_count": 7,
     "metadata": {},
     "output_type": "execute_result"
    }
   ],
   "source": [
    "input_texts = datasets['training']['t_kjv']\n",
    "target_texts = [ f'\\t{target_text}\\n' for target_text in datasets['training']['t_bbe'] ]\n",
    "input_characters = {char for input_text in input_texts for char in input_text}\n",
    "target_characters = {char for target_text in target_texts for char in target_text}\n",
    "len(input_texts), len(target_texts)"
   ]
  },
  {
   "cell_type": "code",
   "execution_count": 8,
   "metadata": {},
   "outputs": [
    {
     "data": {
      "text/plain": [
       "(528, 506)"
      ]
     },
     "execution_count": 8,
     "metadata": {},
     "output_type": "execute_result"
    }
   ],
   "source": [
    "input_characters = sorted(input_characters)\n",
    "target_characters = sorted(target_characters)\n",
    "num_encoder_tokens = len(input_characters)\n",
    "num_decoder_tokens = len(target_characters)\n",
    "max_encoder_seq_length = len(max(input_texts, key = len))\n",
    "max_decoder_seq_length = len(max(target_texts, key = len))\n",
    "max_encoder_seq_length, max_decoder_seq_length"
   ]
  },
  {
   "cell_type": "code",
   "execution_count": 9,
   "metadata": {},
   "outputs": [],
   "source": [
    "# character to encoding index map\n",
    "input_token_index = { char: i for i, char in enumerate(input_characters) }\n",
    "target_token_index = { char: i for i, char in enumerate(target_characters) }"
   ]
  },
  {
   "cell_type": "code",
   "execution_count": 10,
   "metadata": {},
   "outputs": [],
   "source": [
    "# Initialize one-hot encoding arrays\n",
    "encoder_input_data = np.zeros(\n",
    "    (len(input_texts), max_encoder_seq_length, num_encoder_tokens), dtype=\"float32\"\n",
    ")\n",
    "decoder_input_data = np.zeros(\n",
    "    (len(input_texts), max_decoder_seq_length, num_decoder_tokens), dtype=\"float32\"\n",
    ")\n",
    "decoder_target_data = np.zeros(\n",
    "    (len(input_texts), max_decoder_seq_length, num_decoder_tokens), dtype=\"float32\"\n",
    ")"
   ]
  },
  {
   "cell_type": "code",
   "execution_count": 11,
   "metadata": {},
   "outputs": [],
   "source": [
    "for i, input_text in enumerate(input_texts):\n",
    "    for t, char in enumerate(input_text):\n",
    "        encoder_input_data[i, t, input_token_index[char]] = 1.0\n",
    "    # initialize the rest to blank (spaces)\n",
    "    encoder_input_data[i, t + 1 :, input_token_index[' ']] = 1.0\n",
    "\n",
    "for i, target_text in enumerate(target_texts):\n",
    "    for t, char in enumerate(target_text):\n",
    "        # decoder_target_data is ahead of decoder_input_data by one timestep\n",
    "        decoder_input_data[i, t, target_token_index[char]] = 1.0\n",
    "        if t > 0:\n",
    "            # decoder_target_data will be ahead by one timestep\n",
    "            # and will not include the start character.\n",
    "            decoder_target_data[i, t - 1, target_token_index[char]] = 1.0\n",
    "    decoder_input_data[i, t + 1 :, target_token_index[' ']] = 1.0\n",
    "    decoder_target_data[i, t:, target_token_index[' ']] = 1.0"
   ]
  },
  {
   "cell_type": "code",
   "execution_count": 12,
   "metadata": {},
   "outputs": [],
   "source": [
    "# Defining the models, yay!\n",
    "encoder_inputs = keras.Input(shape = (None, num_encoder_tokens))\n",
    "encoder = keras.layers.LSTM(latent_dim, return_state = True)\n",
    "encoder_states = encoder(encoder_inputs)[1:]\n",
    "\n",
    "decoder_inputs = keras.Input(shape = (None, num_decoder_tokens))\n",
    "decoder_lstm = keras.layers.LSTM(latent_dim, return_sequences = True, return_state = True)\n",
    "decoder_outputs, _, _ = decoder_lstm(decoder_inputs, initial_state = encoder_states)\n",
    "decoder_dense = keras.layers.Dense(num_decoder_tokens, activation = 'softmax')\n",
    "decoder_outputs = decoder_dense(decoder_outputs)\n",
    "\n",
    "model = keras.Model([encoder_inputs, decoder_inputs], decoder_outputs)"
   ]
  },
  {
   "cell_type": "code",
   "execution_count": null,
   "metadata": {},
   "outputs": [
    {
     "name": "stdout",
     "output_type": "stream",
     "text": [
      "Epoch 1/10\n",
      "16/16 [==============================] - 80s 5s/step - loss: 1.6944 - accuracy: 0.7206 - val_loss: 1.1457 - val_accuracy: 0.7721\n",
      "Epoch 2/10\n",
      "16/16 [==============================] - 80s 5s/step - loss: 1.2368 - accuracy: 0.7693 - val_loss: 1.1154 - val_accuracy: 0.7712\n",
      "Epoch 3/10\n",
      "16/16 [==============================] - 83s 5s/step - loss: 1.1077 - accuracy: 0.7698 - val_loss: 0.9382 - val_accuracy: 0.7703\n",
      "Epoch 4/10\n",
      "16/16 [==============================] - ETA: 0s - loss: 0.9811 - accuracy: 0.7700"
     ]
    }
   ],
   "source": [
    "model.compile(\n",
    "    optimizer = 'rmsprop', loss = 'categorical_crossentropy', metrics = ['accuracy']\n",
    ")\n",
    "model.fit(\n",
    "    [encoder_input_data[:num_samples], decoder_input_data[:num_samples]],\n",
    "    decoder_target_data[:num_samples],\n",
    "    batch_size = batch_size,\n",
    "    epochs = epochs,\n",
    "    validation_split = 0.8\n",
    ")\n",
    "# Save model\n",
    "model.save('models/kjv_bbe_lstm_c2c')"
   ]
  }
 ],
 "metadata": {
  "kernelspec": {
   "display_name": "Python 3",
   "language": "python",
   "name": "python3"
  },
  "language_info": {
   "codemirror_mode": {
    "name": "ipython",
    "version": 3
   },
   "file_extension": ".py",
   "mimetype": "text/x-python",
   "name": "python",
   "nbconvert_exporter": "python",
   "pygments_lexer": "ipython3",
   "version": "3.8.5"
  }
 },
 "nbformat": 4,
 "nbformat_minor": 4
}
