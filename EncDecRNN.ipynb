{
 "cells": [
  {
   "cell_type": "markdown",
   "metadata": {
    "colab_type": "text",
    "id": "view-in-github"
   },
   "source": [
    "<a href=\"https://colab.research.google.com/github/mayaschwarz/cs175--lfric-to-Albert/blob/main/EncDecRNN.ipynb\" target=\"_parent\"><img src=\"https://colab.research.google.com/assets/colab-badge.svg\" alt=\"Open In Colab\"/></a>"
   ]
  },
  {
   "cell_type": "markdown",
   "metadata": {
    "id": "i7QLIgUmO4gf"
   },
   "source": [
    "# OpenNMT-py Encoder Decoder LSTM\n",
    "\n",
    "Sequence-to-Sequence Encoder-Decoder Models for translating Middle, Modern, and Old English.\n",
    "\n",
    "We implemented an Encoder Decoder architecture with an Attention Mechanism, multiple layers, and bidirectional encoding.\n",
    "\n",
    "We were running into difficulties implementing beam search for decoding our custom model, eventually deciding to utilize the OpenNMT-py framework. The framework provided scripts that would generate, train, and translate a model given a configuration script and data. \n",
    "\n",
    "It also allowed for our smallest dataset (Old English) to double in size from (~3k to ~5k) sentence pairs."
   ]
  },
  {
   "cell_type": "markdown",
   "metadata": {
    "id": "L_GR9iUHfzL9"
   },
   "source": [
    "## Google Colab Set Up\n",
    "\n",
    "Steps that need to be taken to set up the Google Colab Environment.If you're running this locally, feel free to ignore this section. \n",
    "\n",
    "The only requirement is that you must install the required packages using `requirements.txt`. If there is any dependency errors, please raise an issue with the repository."
   ]
  },
  {
   "cell_type": "code",
   "execution_count": 1,
   "metadata": {
    "colab": {
     "base_uri": "https://localhost:8080/"
    },
    "id": "VbRUvKr9nywe",
    "outputId": "ed2f4435-ae04-40ac-eedd-5190c8c22eda"
   },
   "outputs": [
    {
     "name": "stdout",
     "output_type": "stream",
     "text": [
      "Mounted at /content/gdrive\n"
     ]
    }
   ],
   "source": [
    "from google.colab import drive\n",
    "\n",
    "# default location for the drive\n",
    "ROOT = \"/content/gdrive\"\n",
    "\n",
    "drive.mount(ROOT)"
   ]
  },
  {
   "cell_type": "code",
   "execution_count": 2,
   "metadata": {
    "colab": {
     "base_uri": "https://localhost:8080/"
    },
    "id": "lmTJLiqgn1X1",
    "outputId": "71360969-faaf-40ff-c4c7-84b7fb87ee93"
   },
   "outputs": [
    {
     "name": "stdout",
     "output_type": "stream",
     "text": [
      "PROJECT_PATH:  /content/gdrive/My Drive/cs175-Aelfric-to-Albert\n",
      "GIT_PATH:  https://github.com/mayaschwarz/cs175--lfric-to-Albert.git\n"
     ]
    }
   ],
   "source": [
    "# Clone github repository setup\n",
    "# import join used to join ROOT path and MY_GOOGLE_DRIVE_PATH\n",
    "from os.path import join  \n",
    "\n",
    "# path to your project on Google Drive\n",
    "MY_GOOGLE_DRIVE_PATH = 'My Drive/cs175-Aelfric-to-Albert' \n",
    "GIT_USERNAME = \"mayaschwarz\" \n",
    "\n",
    "PROJECT_PATH = join(ROOT, MY_GOOGLE_DRIVE_PATH)\n",
    "\n",
    "# It's good to print out the value if you are not sure \n",
    "print(\"PROJECT_PATH: \", PROJECT_PATH)   \n",
    "\n",
    "GIT_PATH = \"https://github.com/mayaschwarz/cs175--lfric-to-Albert.git\"\n",
    "print(\"GIT_PATH: \", GIT_PATH)"
   ]
  },
  {
   "cell_type": "code",
   "execution_count": null,
   "metadata": {
    "id": "_MsXX3Smn2hs"
   },
   "outputs": [],
   "source": [
    "# Answer input query for downloading git repository\n",
    "while True:\n",
    "    response = input(\"Are you sure you want to download the repo? Doing so will delete all unpush work. [y|N] \").lower().strip()\n",
    "    if not response or response[0] == 'n':\n",
    "        break\n",
    "    elif response[0] == \"y\":\n",
    "        !rm -rv \"{PROJECT_PATH}\"\n",
    "        !mkdir -p \"{PROJECT_PATH}\" \n",
    "        !git clone \"{GIT_PATH}\" \"{PROJECT_PATH}\"\n",
    "        break\n",
    "\n",
    "# cd into the repository\n",
    "%cd \"{PROJECT_PATH}\""
   ]
  },
  {
   "cell_type": "code",
   "execution_count": null,
   "metadata": {
    "id": "ZpBwKtztn31i"
   },
   "outputs": [],
   "source": [
    "# Check that repository is up to date\n",
    "!git pull "
   ]
  },
  {
   "cell_type": "code",
   "execution_count": null,
   "metadata": {
    "id": "leBL9jCcJ6cK"
   },
   "outputs": [],
   "source": [
    "# Check which branch you're on\n",
    "!git branch"
   ]
  },
  {
   "cell_type": "code",
   "execution_count": null,
   "metadata": {
    "id": "P3g-49GKrohA"
   },
   "outputs": [],
   "source": [
    "# Error warnings should be safe to ignore, able to run the dataset and opennmt-py\n",
    "# versions fine\n",
    "# If encountering packing does not exist errors, restart the runtime.\n",
    "!pip install -r requirements.txt"
   ]
  },
  {
   "cell_type": "markdown",
   "metadata": {
    "id": "qA090PA8PLeH"
   },
   "source": [
    "## Setting up the Python Environment\n"
   ]
  },
  {
   "cell_type": "code",
   "execution_count": null,
   "metadata": {
    "id": "IJPEpWrpEugD"
   },
   "outputs": [],
   "source": [
    "# load notebook environment variables\n",
    "%load_ext tensorboard"
   ]
  },
  {
   "cell_type": "code",
   "execution_count": null,
   "metadata": {
    "id": "s3pyyJYjoGwV"
   },
   "outputs": [],
   "source": [
    "# standard library\n",
    "import math\n",
    "from os import listdir\n",
    "import re\n",
    "import random\n",
    "\n",
    "# additional libraries (pip install ..)\n",
    "import cltk\n",
    "import nltk\n",
    "import onmt\n",
    "from onmt.utils.misc import set_random_seed\n",
    "import pyonmttok\n",
    "import torch\n",
    "import torch.nn as nn\n",
    "from torchtext.data import Dataset\n",
    "import yaml\n",
    "\n",
    "# local libraries\n",
    "from src.data_manager import *\n",
    "from src.paths import *"
   ]
  },
  {
   "cell_type": "code",
   "execution_count": null,
   "metadata": {
    "id": "TqRuGHcgpLPX"
   },
   "outputs": [],
   "source": [
    "def set_deterministic(seed: int = 1234):\n",
    "    random.seed(seed)\n",
    "    torch.manual_seed(seed)\n",
    "    torch.cuda.manual_seed(seed)\n",
    "    torch.backends.cudnn.deterministic = True\n",
    "    set_random_seed(seed, torch.cuda.is_available())\n",
    "\n",
    "set_deterministic()"
   ]
  },
  {
   "cell_type": "markdown",
   "metadata": {
    "id": "-FJ8_RlhiU_N"
   },
   "source": [
    "## Preprocessing and Tokenization\n"
   ]
  },
  {
   "cell_type": "markdown",
   "metadata": {
    "id": "lWn1nklMSqHm"
   },
   "source": [
    "## Data Retrieval\n"
   ]
  },
  {
   "cell_type": "code",
   "execution_count": null,
   "metadata": {
    "id": "4Fokf_1WSxt0"
   },
   "outputs": [],
   "source": [
    "from pandas import read_csv\n",
    "\n",
    "class HomiliesDataset(Dataset):\n",
    "    '''\n",
    "    Processes the Homilies Dataset\n",
    "\n",
    "    Arguments:\n",
    "      path{str|Path} -- path to the filename containing the homilies dataset\n",
    "      rever\n",
    "    '''\n",
    "    def  __init__(self, path, reverse=False):\n",
    "        df = read_csv (path)\n",
    "        self.src = list(df['text'])\n",
    "        self.src_key = 't_old'\n",
    "        self.tgt = list(df['translation'])\n",
    "        self.tgt_key = 't_mod'\n",
    "\n",
    "        if reverse:\n",
    "            self.src, self.tgt, self.src_key = self.tgt, self.src\n",
    "            self.src_key, self.tgt_key = self.tgt_key, self.src_key\n",
    "\n",
    "    def __getitem__(self, index):\n",
    "        return self.src[index], self.tgt[index]\n",
    "\n",
    "    def __len__(self):\n",
    "        return len(self.src)\n",
    "\n",
    "    def bible_format(self, training: float = 0.7, valid: float = 0.0) -> {str : {str : [str]}}:\n",
    "        '''\n",
    "        Returns the dataset formatted similar to the bible datasets to allow\n",
    "        common operations.\n",
    "\n",
    "        Keys are accessed as t_old and t_mod to access the versions\n",
    "\n",
    "        Arguments:\n",
    "            training{float} -- perentage of training data\n",
    "            valid{float} -- percentage of data set aside for validation, rest is test data\n",
    "        '''\n",
    "        dataset = { 'training': { self.src_key : [], self.tgt_key: []}, \n",
    "                    'validation': { self.src_key : [], self.tgt_key: []}, \n",
    "                    'test': { self.src_key : [], self.tgt_key: []} \n",
    "                  }\n",
    "\n",
    "        n = len(self)\n",
    "        train_size = int(training * n)\n",
    "        valid_size = int(valid * n)\n",
    "        test_size  = n - train_size - valid_size\n",
    "        train, valid, test = torch.utils.data.random_split(\n",
    "                                                          self, \n",
    "                                                          [\n",
    "                                                           train_size, \n",
    "                                                           valid_size, \n",
    "                                                           test_size\n",
    "                                                           ])\n",
    "        src_train, tgt_train = zip(*train)\n",
    "        src_valid, tgt_valid = zip(*valid)\n",
    "        src_test, tgt_test = zip(*test)\n",
    "\n",
    "        dataset['training'][self.src_key] = list(src_train)\n",
    "        dataset['training'][self.tgt_key] = list(tgt_train)\n",
    "\n",
    "        dataset['validation'][self.src_key] = list(src_valid)\n",
    "        dataset['validation'][self.tgt_key] = list(tgt_valid)\n",
    "\n",
    "        dataset['test'][self.src_key] = list(src_test)\n",
    "        dataset['test'][self.tgt_key] = list(tgt_test)\n",
    "\n",
    "        return dataset"
   ]
  },
  {
   "cell_type": "markdown",
   "metadata": {
    "id": "5rBaibtnSnz0"
   },
   "source": [
    "## Tokenization"
   ]
  },
  {
   "cell_type": "code",
   "execution_count": null,
   "metadata": {
    "id": "PLmGH83poeo4"
   },
   "outputs": [],
   "source": [
    "import cltk\n",
    "from cltk.corpus.middle_english.alphabet import normalize_middle_english\n",
    "from cltk.phonology.old_english.phonology import Word\n",
    "from typing import Union\n",
    "\n",
    "def _normalize(text: str, language_code: str):\n",
    "    if language_code == 'ang':\n",
    "        # old english\n",
    "        DONT_NORMALIZE = '!?.&,:;\"'\n",
    "        normalized_words = list()\n",
    "        for word in text.split():\n",
    "            if len(word) == 0:\n",
    "                continue\n",
    "\n",
    "            if word[-1] in DONT_NORMALIZE:\n",
    "                normalized_words.append(Word(word[:-1]).ascii_encoding() + word[-1])\n",
    "            else:\n",
    "                normalized_words.append(Word(word).ascii_encoding())\n",
    "\n",
    "        return ' '.join(normalized_words)\n",
    "    elif language_code == 'enm':\n",
    "        # middle english\n",
    "        return normalize_middle_english(text, to_lower=False, alpha_conv=True, punct=False)\n",
    "    return text\n",
    "\n",
    "def tokenizer(text: str, language_code: str, **kwargs: bool) -> [str]:\n",
    "    tok = pyonmttok.Tokenizer(\"aggressive\", joiner_annotate=True, **kwargs)\n",
    "    tokens, _ = tok.tokenize(_normalize(text, language_code))\n",
    "    return tokens\n",
    "\n",
    "def write_tokenized_dataset(dataset: {str: {str: [str]}}, source: str, source_language_code: str, target: str, target_language_code: str, file_paths: {str, Union[str, Path], Union[str, Path]}, token_kwargs: {str: bool} = {}) -> None:\n",
    "    \"\"\"\n",
    "    Given a dataset, tokenizes and writes the contents according to it's file path\n",
    "\n",
    "    Arguments:\n",
    "      dataset {{str: [str]}} -- dataset returned from create_datasets\n",
    "      file_paths - dictionary with key as the dataset-type (training, validation, test), item as (path to source, path to target)\n",
    "      token_kwargs {{str: bool}} -- kwargs for the tokenizer (case_markup, etc.)\n",
    "    \"\"\"\n",
    "    for dataset_t in file_paths.keys():\n",
    "        src_path, tgt_path = file_paths[dataset_t]\n",
    "        with open(src_path, mode='w+', encoding='utf-8') as src, open(tgt_path, mode='w+', encoding='utf-8') as tgt:\n",
    "            src.write('\\n'.join([\" \".join(tokenizer(l, source_language_code, **token_kwargs)) for l in dataset[dataset_t][source]]))\n",
    "            tgt.write('\\n'.join([\" \".join(tokenizer(l, target_language_code, **token_kwargs)) for l in dataset[dataset_t][target]]))"
   ]
  },
  {
   "cell_type": "markdown",
   "metadata": {
    "id": "FPrbGwuRQQJF"
   },
   "source": [
    "# Training"
   ]
  },
  {
   "cell_type": "code",
   "execution_count": null,
   "metadata": {
    "colab": {
     "base_uri": "https://localhost:8080/"
    },
    "id": "DDxEfQtt20T7",
    "outputId": "fa1b46f1-00ba-4dad-b7c1-55491043f381"
   },
   "outputs": [
    {
     "name": "stdout",
     "output_type": "stream",
     "text": [
      "GPU 0: Tesla V100-SXM2-16GB (UUID: GPU-dec3bf4a-ba0e-c1e2-2141-c60db31ee2fb)\n"
     ]
    }
   ],
   "source": [
    "# Check if GPU is active\n",
    "# If not, go to \"Runtime\" menu > \"Change runtime type\" > \"GPU\"\n",
    "\n",
    "!nvidia-smi -L"
   ]
  },
  {
   "cell_type": "code",
   "execution_count": null,
   "metadata": {
    "colab": {
     "base_uri": "https://localhost:8080/"
    },
    "id": "XmW12nkB21K-",
    "outputId": "44f25cc4-fa12-4edb-c12b-6e835d824be9"
   },
   "outputs": [
    {
     "name": "stdout",
     "output_type": "stream",
     "text": [
      "True\n",
      "Tesla V100-SXM2-16GB\n"
     ]
    }
   ],
   "source": [
    "# Make sure the GPU is visable to PyTorch\n",
    "import torch\n",
    "\n",
    "gpu_id = torch.cuda.current_device()\n",
    "print(torch.cuda.is_available())\n",
    "print(torch.cuda.get_device_name(gpu_id))"
   ]
  },
  {
   "cell_type": "code",
   "execution_count": null,
   "metadata": {
    "id": "E1Bd9FKIg-Ml"
   },
   "outputs": [],
   "source": [
    "def build_and_train(config_path):\n",
    "    # build and store vocab in run folder\n",
    "    !onmt_build_vocab -config \"{config_path}\" -n_sample -1\n",
    "    # begin training\n",
    "    !onmt_train -config \"{config_path}\""
   ]
  },
  {
   "cell_type": "markdown",
   "metadata": {
    "id": "jUZIeeDNlJJD"
   },
   "source": [
    "# Translation and Evaluation\n",
    "\n",
    "See [here](https://opennmt.net/OpenNMT-py/options/translate.html) for more info on translation parameters\n",
    "\n",
    "Evaluatation using BLEU and METEOR"
   ]
  },
  {
   "cell_type": "code",
   "execution_count": null,
   "metadata": {
    "id": "rwt4xA_EnMmG"
   },
   "outputs": [],
   "source": [
    "from datasets import list_metrics, load_metric\n",
    "from nltk.translate.bleu_score import sentence_bleu\n",
    "from nltk.translate import meteor\n",
    "\n",
    "def compute_score(candidate_verses: [str], reference_verses: [str], metric_name: str = 'sacrebleu') -> float:\n",
    "    metric = load_metric(metric_name)\n",
    "    # if it's sacrebleu, need to reformat\n",
    "    if metric_name == 'sacrebleu':\n",
    "        reference_verses = [[r] for r in reference_verses]\n",
    "    \n",
    "    if len(candidate_verses) < len(reference_verses):\n",
    "        print(\"candidate verses is less than reference verses, trimming reference to fit\")\n",
    "        reference_verses = reference_verses[:-1]\n",
    "\n",
    "    metric.add_batch(predictions = candidate_verses, references = reference_verses)\n",
    "    \n",
    "    return metric.compute()\n",
    "\n",
    "def get_detokenized_file(filename: Union[str, Path], tokenize: pyonmttok.Tokenizer) -> [str]:\n",
    "    with open(filename, encoding='utf-8') as f:\n",
    "        # Add line to strip empty lines\n",
    "        lines = [tokenize.detokenize(line.rstrip('\\n').split(' ')) for line in f]\n",
    "        if lines[-1] == '':\n",
    "            lines = lines[:-1]\n",
    "\n",
    "        return lines\n",
    "\n",
    "def get_score(metric_name: str, value: {str: float}) -> None:\n",
    "    if metric_name == 'sacrebleu':\n",
    "        return value['score']\n",
    "    elif metric_name == 'meteor':\n",
    "        return value['meteor']\n",
    "\n",
    "def evaluate(models: Union[str, Path], source: Union[str, Path], target: Union[str, Path], eval_metrics: [str], token_kwargs: {str:bool},  max_length: int, beam_size: 5, save_folder='./predictions', verbose=True) -> {str: {str: {}}}:\n",
    "    tokenize = pyonmttok.Tokenizer(\"aggressive\", **token_kwargs)\n",
    "    # detokenize the reference file that has been tokenized\n",
    "    # (this ensures that any normalization techniques used do not effect the scoring)\n",
    "    references = get_detokenized_file(target, tokenize)\n",
    "  \n",
    "    scores = dict() \n",
    "    for m in models:\n",
    "        # get the model name\n",
    "        model_name = m.name[:-3] if isinstance(m, Path) else m.rsplit('(\\\\|\\/)')[-1][:-3]\n",
    "\n",
    "        filename = f\"{save_folder}/{model_name}_pred.txt\"\n",
    "        \n",
    "        # Call the translate script to generate token predictions\n",
    "        !onmt_translate -model \"{m}\" -src \"{source}\" -output \"{filename}\" -min_length 1 -max_length \"{max_length}\" -beam_size \"{beam_size}\" -gpu 0 \n",
    "        \n",
    "        # Retrieve candidate sentences\n",
    "        candidates = get_detokenized_file(filename, tokenize)\n",
    "        \n",
    "        print(f'{model_name} SCORE:')\n",
    "\n",
    "        metrics = dict()\n",
    "        for eval_name in eval_metrics:\n",
    "            eval_score = compute_score(candidates, references, eval_name)\n",
    "            if verbose:\n",
    "                print(f'\\t{eval_name} = {get_score(eval_name, eval_score):.4f}')\n",
    "            metrics[eval_name] = eval_score\n",
    "        scores[model_name] = metrics\n",
    "\n",
    "    return scores"
   ]
  },
  {
   "cell_type": "markdown",
   "metadata": {
    "id": "eHfn46hoA8bw"
   },
   "source": [
    "# Configuring the Data, Model, and Training Parameters\n",
    "Generate a YAML file that contains all the hyperparameters and system variables necessary to build the vocab, build, and train the model.\n",
    "\n",
    "See [here](https://opennmt.net/OpenNMT-py/options/build_vocab.html) for more info on building vocab\n",
    "\n",
    "See [here](https://opennmt.net/OpenNMT-py/options/train.html) for more info about building the model and training parameters"
   ]
  },
  {
   "cell_type": "code",
   "execution_count": null,
   "metadata": {
    "id": "_1OT26GbF_Tj"
   },
   "outputs": [],
   "source": [
    "# declare the config folder to store all the yaml files\n",
    "CONFIG_NAME = 'openmt-config'\n",
    "!mkdir -p \"{CONFIG_NAME}\"\n",
    "CONFIG_PATH = Path(CONFIG_NAME)"
   ]
  },
  {
   "cell_type": "markdown",
   "metadata": {
    "id": "DqaPzHBpCpZG"
   },
   "source": [
    "## Middle and Modern English"
   ]
  },
  {
   "cell_type": "markdown",
   "metadata": {
    "id": "6G-C-dD0EoHQ"
   },
   "source": [
    "### Middle to Modern\n"
   ]
  },
  {
   "cell_type": "code",
   "execution_count": null,
   "metadata": {
    "id": "yWdU14UyBZIi"
   },
   "outputs": [],
   "source": [
    "from pathlib import Path\n",
    "\n",
    "ENM2MOD_TRANSLATE_NAME = 'enm2mod'\n",
    "!mkdir -p '{ENM2MOD_TRANSLATE_NAME}'\n",
    "\n",
    "# PATH VARIABLES\n",
    "ENM2MOD_TRANSLATE_PATH = Path(ENM2MOD_TRANSLATE_NAME)\n",
    "ENM2MOD_RUN_PATH = ENM2MOD_TRANSLATE_PATH / 'run'\n",
    "!mkdir -p \"{ENM2MOD_RUN_PATH}\"\n",
    "\n",
    "# Dataset Variables\n",
    "ENM2MOD_SOURCE_VER = 't_wyc'\n",
    "ENM2MOD_SRC_LANG_CODE = 'enm'\n",
    "ENM2MOD_TARGET_VER = 't_kjv'\n",
    "ENM2MOD_TGT_LANG_CODE = 'eng'\n",
    "\n",
    "MAX_SENTENCE_LENGTH = 60\n",
    "\n",
    "# Dataset Paths\n",
    "DATA_PATH = Path('data/preprocessed')\n",
    "!mkdir -p \"{DATA_PATH}\"\n",
    "\n",
    "set_deterministic()"
   ]
  },
  {
   "cell_type": "code",
   "execution_count": null,
   "metadata": {
    "id": "kzd-aZpnBczZ"
   },
   "outputs": [],
   "source": [
    "# Generate splits and write to files\n",
    "versions = get_bible_versions_by_file_name([ENM2MOD_SOURCE_VER, ENM2MOD_TARGET_VER])\n",
    "\n",
    "datasets = create_datasets(versions, .82, \n",
    "                preprocess_operations = [preprocess_filter_num_words(MAX_SENTENCE_LENGTH),\n",
    "                                         preprocess_expand_contractions(),\n",
    "                                         preprocess_filter_num_sentences(),\n",
    "                ]);"
   ]
  },
  {
   "cell_type": "code",
   "execution_count": null,
   "metadata": {
    "id": "Elj5pmCtBN7X"
   },
   "outputs": [],
   "source": [
    "ENM2MOD_SRC_EXT = ENM2MOD_SOURCE_VER[2:]\n",
    "ENM2MOD_TGT_EXT = ENM2MOD_TARGET_VER[2:]\n",
    "\n",
    "\n",
    "enm2mod_file_paths = {\n",
    "    'training' : (DATA_PATH / f'bible-train.{ENM2MOD_SRC_EXT}', DATA_PATH / f'bible-train.{ENM2MOD_TGT_EXT}'),\n",
    "    'validation' : (DATA_PATH / f'bible-valid.{ENM2MOD_SRC_EXT}', DATA_PATH / f'bible-valid.{ENM2MOD_TGT_EXT}'),\n",
    "    'test' : (DATA_PATH / f'bible-test.{ENM2MOD_SRC_EXT}', DATA_PATH / f'bible-test.{ENM2MOD_TGT_EXT}')\n",
    "    }\n",
    "\n",
    "token_kwargs = {\n",
    "    'case_markup': True\n",
    "    }"
   ]
  },
  {
   "cell_type": "code",
   "execution_count": null,
   "metadata": {
    "id": "CoqCvH6iogUc"
   },
   "outputs": [],
   "source": [
    "write_tokenized_dataset(datasets, ENM2MOD_SOURCE_VER, ENM2MOD_SRC_LANG_CODE, ENM2MOD_TARGET_VER, ENM2MOD_TGT_LANG_CODE, enm2mod_file_paths, token_kwargs)"
   ]
  },
  {
   "cell_type": "code",
   "execution_count": null,
   "metadata": {
    "id": "TG5VQ6ZPA2yV"
   },
   "outputs": [],
   "source": [
    "ENM2MOD_SRC_VOCAB_PATH = ENM2MOD_RUN_PATH / 'vocab.src'\n",
    "ENM2MOD_TGT_VOCAB_PATH = ENM2MOD_RUN_PATH / 'vocab.tgt'\n",
    "\n",
    "enm2mod_yaml = 'enm2mod.yaml'\n",
    "\n",
    "ENM2MOD_MODEL_PATH = ENM2MOD_RUN_PATH / 'models'\n",
    "ENM2MOD_MODEL_PREFIX = 'enm2mod'"
   ]
  },
  {
   "cell_type": "code",
   "execution_count": null,
   "metadata": {
    "id": "VaTEGa-fAzej"
   },
   "outputs": [],
   "source": [
    "config =  f'''# {enm2mod_yaml}\n",
    "save_data: {ENM2MOD_RUN_PATH}\n",
    "\n",
    "### DATA PROPROCESSING ###\n",
    "## Where the vocab(s) will be written\n",
    "src_vocab: {ENM2MOD_SRC_VOCAB_PATH}\n",
    "tgt_vocab: {ENM2MOD_TGT_VOCAB_PATH}\n",
    "\n",
    "# Corpus opts:\n",
    "data:\n",
    "    corpus_1:\n",
    "        path_src: {enm2mod_file_paths['training'][0]}\n",
    "        path_tgt: {enm2mod_file_paths['training'][1]}\n",
    "        transforms: []\n",
    "        weight: 1\n",
    "    valid:\n",
    "        path_src: {enm2mod_file_paths['validation'][0]}\n",
    "        path_tgt: {enm2mod_file_paths['validation'][1]}\n",
    "        transforms: []\n",
    "\n",
    "## silently ignore empty lines in data\n",
    "skip_empty_level: silent\n",
    "\n",
    "### TRAINING ###\n",
    "## Where the model will be saved\n",
    "save_model: {ENM2MOD_MODEL_PATH / ENM2MOD_MODEL_PREFIX}\n",
    "save_checkpoint_steps: 1000\n",
    "average_decay: 0.0005\n",
    "seed: 1234\n",
    "report_every: 100\n",
    "train_steps: 100000\n",
    "valid_steps: 100\n",
    "early_stopping: 10\n",
    "# early_stopping_criteria: accuracy\n",
    "tensorboard: True\n",
    "tensorboard_log_dir: {ENM2MOD_RUN_PATH / 'logs'}\n",
    "\n",
    "# Batching\n",
    "world_size: 1\n",
    "gpu_ranks: [0]\n",
    "batch_size: 64\n",
    "valid_batch_size: 64\n",
    "batch_size_multiple: 1\n",
    "\n",
    "# Optimization\n",
    "model_dtype: \"fp32\"\n",
    "optim: \"adam\"\n",
    "learning_rate: 0.001\n",
    "\n",
    "# Model\n",
    "encoder_type: rnn\n",
    "decoder_type: rnn\n",
    "rnn_type: LSTM\n",
    "bidir_edges: True\n",
    "enc_layers: 2\n",
    "dec_layers: 2\n",
    "rnn_size: 1024\n",
    "word_vec_size: 256\n",
    "dropout: 0.5\n",
    "attn_dropout: 0.3\n",
    "'''\n",
    "\n",
    "with open(CONFIG_PATH / enm2mod_yaml, \"w+\") as config_yaml:\n",
    "  config_yaml.write(config)"
   ]
  },
  {
   "cell_type": "code",
   "execution_count": null,
   "metadata": {
    "id": "Vw90EslMG2ZP"
   },
   "outputs": [],
   "source": [
    "build_and_train(CONFIG_PATH / enm2mod_yaml)"
   ]
  },
  {
   "cell_type": "code",
   "execution_count": null,
   "metadata": {
    "id": "MvDyin8CBtTt"
   },
   "outputs": [],
   "source": [
    "# retrieve the models\n",
    "enm2mod_models = [ ENM2MOD_MODEL_PATH / f for f in listdir(ENM2MOD_MODEL_PATH) if f.startswith(ENM2MOD_MODEL_PREFIX)]\n",
    "\n",
    "ENM2MOD_PREDICTIONS_PATH = ENM2MOD_RUN_PATH / 'predictions'\n",
    "!mkdir -p \"{ENM2MOD_PREDICTIONS_PATH}\"\n",
    "\n",
    "eval_metrics = ['sacrebleu', 'meteor']"
   ]
  },
  {
   "cell_type": "code",
   "execution_count": null,
   "metadata": {
    "id": "rKLqd9NOUal4"
   },
   "outputs": [],
   "source": [
    "enm2mod_scores = evaluate(enm2mod_models, \n",
    "                          enm2mod_file_paths['test'][0], \n",
    "                          enm2mod_file_paths['test'][1], \n",
    "                          eval_metrics,\n",
    "                          token_kwargs,\n",
    "                          MAX_SENTENCE_LENGTH, \n",
    "                          5, \n",
    "                          str(ENM2MOD_PREDICTIONS_PATH))"
   ]
  },
  {
   "cell_type": "markdown",
   "metadata": {
    "id": "-80sPpwGlLvL"
   },
   "source": [
    "The best performing model is after 2900 training iterations with early stopping and beam size 5:\n",
    "\n",
    "    BLEU   = 26.5572\n",
    "    METEOR = 0.4481\n",
    "\n",
    "Interesting note: Adding a capitalization token and keeping punctuation increased both BLEU and METEOR accuracy by 2-4% compared to lowercase without punctuation."
   ]
  },
  {
   "cell_type": "markdown",
   "metadata": {
    "id": "zkaOH9VmyJJO"
   },
   "source": [
    "#### User Studies Predictions\n",
    "\n",
    "Generate predictions for the user studies\n"
   ]
  },
  {
   "cell_type": "code",
   "execution_count": null,
   "metadata": {
    "id": "a25utt05mPw3"
   },
   "outputs": [],
   "source": [
    "queries = ['In the bigynnyng God made of nouyt heuene and erthe.', \n",
    "           'And Adam clepide the name of his wijf Eue, for sche was the moder of alle men lyuynge.', \n",
    "           'And the Lord God clepide Adam, and seide to hym, Where art thou?', \n",
    "           'Forsothe the Lord hadde mynde of Noe, and of alle lyuynge beestis, and of alle werk beestis, that weren with hym in the schip; and brouyte a wynd on the erthe.', \n",
    "           'And whanne God seiy, that the erthe was corrupt, for ech fleisch ether man hadde corrupt his weie on erthe,', \n",
    "           'bi tweyne and bi tweyne, male and female entriden to Noe in to the schip, as the Lord comaundide to Noe.', \n",
    "           'And sotheli the watrys yeden and decresiden til to the tenthe monethe, for in the tenthe monethe, in the firste dai of the monethe, the coppis of hillis apperiden.', \n",
    "           'And God fillide in the seuenthe dai his werk which he made; and he restide in the seuenthe dai fro al his werk which he hadde maad;', \n",
    "           'And the erthe brouyte forth greene erbe and makynge seed bi his kynde, and a tre makynge fruyt, and ech hauynge seed by his kynde. And God seiy that it was good.', \n",
    "           'And the Lord dide in that nyyt, as Gedeon axide; and drynesse was in the flees aloone, and deew was in al the erthe.', \n",
    "           'Also `the trees spaken to the vyne, Come thou, and comaunde to vs.', \n",
    "           'Therfor not Y do synne ayens thee, but thou doist yuel ayens me, and bryngist in batels not iust to me; the Lord, iuge of this dai, deme bitwixe the sones of Israel and bitwixe the sones of Amon.', \n",
    "           'The trauel of foolis shal turment hem, that kunnen not go in to the citee.', \n",
    "           'And if seuene sithis in the dai he do synne ayens thee, and seuene sithis in the dai he be conuertid to thee, and seie, It forthenkith me, foryyue thou hym.', \n",
    "           'and seide, Oneli Y knewe you of alle the kynredis of erthe; therfor Y schal visite on you alle youre wickidnessis.', \n",
    "           'And he is heed of the bodi of the chirche; which is the bigynnyng and the firste bigetun of deede men, that he holde the firste dignyte in alle thingis.', \n",
    "           'And the foure beestis seiden, Amen. And the foure and twenti eldre men fellen doun on her faces, and worschipiden hym that lyueth in to worldis of worldis.', \n",
    "           'He brak at noumbre my teeth; he fedde me with aische.', \n",
    "           'And if Sathanas be departid ayens hym silf, hou schal his rewme stonde? For ye seien, that Y caste out feendis in Belsabub.', \n",
    "           'coueitouse, hiy of bering, proude, blasfemeris, not obedient to fadir and modir, vnkynde,', \n",
    "           'Forsothe God seide, Liytis be maad in the firmament of heuene, and departe tho the dai and niyt; and be tho in to signes, and tymes, and daies, and yeeris;', \n",
    "           'Isaac dredde bi a greet astonying; and he wondride more, than it mai be bileued, and seide, Who therfor is he which a while ago brouyte to me huntyng takun, and Y eet of alle thingis bifor that thou camest; and Y blesside him? and he schal be blessid.', \n",
    "           'And lo! an aungel of the Lord criede fro heuene, and seide, Abraham! Abraham!', \n",
    "           'Sotheli Abraham plauntide a wode in Bersabee, and inwardli clepide there the name of euerlastinge God; and he was an erthetiliere ether a comelynge of the lond of Palestynes in many dayes.',\n",
    "           'And he helde forth his hond, and took the swerd to sacrifice his sone.', \n",
    "           'Abraham turnede ayen to hise children, and thei yeden to Bersabee to gidere, and he dwellide there.', \n",
    "           'And whanne ye weren deed in giltis, and in the prepucie of youre fleisch, he quikenyde togidere you with hym;', \n",
    "           'Wymmen, be ye sugetis to youre hosebondis, as it bihoueth in the Lord.', \n",
    "           'For he that doith iniurie, schal resseyue that that he dide yuele; and acceptacioun of persoones is not anentis God.', \n",
    "           'Aristark, prisoner with me, gretith you wel, and Mark, the cosyn of Barnabas, of whom ye han take maundementis; if he come to you, resseyue ye hym;', \n",
    "           'But to God and oure fadir be glorie in to worldis of worldis.'\n",
    "           ]"
   ]
  },
  {
   "cell_type": "code",
   "execution_count": null,
   "metadata": {
    "id": "ubw1aaU6yNYB"
   },
   "outputs": [],
   "source": [
    "# Best Performing Model\n",
    "model = ENM2MOD_MODEL_PATH / f'{ENM2MOD_MODEL_PREFIX}_step_2900.pt'\n",
    "MIDDLE_TEXT_TOK = DATA_PATH / 'user-studies.enm'\n",
    "MIDDLE_TEST_PRED = ENM2MOD_PREDICTIONS_PATH / 'middle-text-pred.txt'\n",
    "\n",
    "with open(MIDDLE_TEXT_TOK, mode='w+', encoding='utf-8') as f:\n",
    "      eval_text = [l.rstrip('\\n') for l in f]\n",
    "      f.write('\\n'.join([\" \".join(tokenizer(l, 'enm', **token_kwargs)) for l in queries]))\n",
    "\n",
    "!onmt_translate -model \"{model}\" -src \"{MIDDLE_TEXT_TOK}\" -output \"{MIDDLE_TEST_PRED}\" -min_length 1 -max_length 60 -beam_size 5 -gpu 0 "
   ]
  },
  {
   "cell_type": "code",
   "execution_count": null,
   "metadata": {
    "id": "KgnAspYUysW9"
   },
   "outputs": [],
   "source": [
    "tokenize = pyonmttok.Tokenizer(\"aggressive\", **token_kwargs)\n",
    "hypotheses = get_detokenized_file(MIDDLE_TEST_PRED, tokenize)\n",
    "\n",
    "for hyp in hypotheses:\n",
    "    print(hyp)"
   ]
  },
  {
   "cell_type": "markdown",
   "metadata": {
    "id": "MRLR8eZFT4Go"
   },
   "source": [
    "### Modern to Middle"
   ]
  },
  {
   "cell_type": "markdown",
   "metadata": {
    "id": "pFbUFqBwGiC2"
   },
   "source": [
    "We can reuse the preprocessing files saved from the previous model"
   ]
  },
  {
   "cell_type": "code",
   "execution_count": null,
   "metadata": {
    "id": "_qEGECBoEsqx"
   },
   "outputs": [],
   "source": [
    "MOD2ENM_TRANSLATE_NAME = 'mod2enm'\n",
    "!mkdir -p '{MOD2ENM_TRANSLATE_NAME}'\n",
    "\n",
    "# PATH VARIABLES\n",
    "MOD2ENM_TRANSLATE_PATH = Path(MOD2ENM_TRANSLATE_NAME)\n",
    "MOD2ENM_RUN_PATH = MOD2ENM_TRANSLATE_PATH / 'run'\n",
    "!mkdir -p \"{MOD2ENM_RUN_PATH}\"\n",
    "\n",
    "# Dataset Variables (swap previous run)\n",
    "MOD2ENM_SOURCE_VER = 't_kjv'\n",
    "MOD2ENM_TARGET_VER = 't_wyc'"
   ]
  },
  {
   "cell_type": "code",
   "execution_count": null,
   "metadata": {
    "id": "fPcBIfqUE9dg"
   },
   "outputs": [],
   "source": [
    "MOD2ENM_SRC_EXT = MOD2ENM_SOURCE_VER[2:]\n",
    "MOD2ENM_TGT_EXT = MOD2ENM_TARGET_VER[2:]\n",
    "\n",
    "mod2enm_file_paths = {\n",
    "    'training' : (DATA_PATH / f'bible-train.{MOD2ENM_SRC_EXT}', DATA_PATH / f'bible-train.{MOD2ENM_TGT_EXT}'),\n",
    "    'validation' : (DATA_PATH / f'bible-valid.{MOD2ENM_SRC_EXT}', DATA_PATH / f'bible-valid.{MOD2ENM_TGT_EXT}'),\n",
    "    'test' : (DATA_PATH / f'bible-test.{MOD2ENM_SRC_EXT}', DATA_PATH / f'bible-test.{MOD2ENM_TGT_EXT}')\n",
    "    }\n",
    "\n",
    "token_kwargs = {\n",
    "    'case_markup': True\n",
    "    }"
   ]
  },
  {
   "cell_type": "code",
   "execution_count": null,
   "metadata": {
    "id": "X4BpV395Sx2X"
   },
   "outputs": [],
   "source": [
    "# datasets are already tokenized by the first run, no need to do again\n",
    "# write_tokenized_dataset(datasets, MOD2ENM_SOURCE_VER, ENM2MOD_TGT_LANG_CODE, MOD2ENM_TARGET_VER, ENM2MOD_SRC_LANG_CODE, mod2enm_file_paths, token_kwargs)"
   ]
  },
  {
   "cell_type": "code",
   "execution_count": null,
   "metadata": {
    "id": "JsQxvqJMdRn8"
   },
   "outputs": [],
   "source": [
    "MOD2ENM_SRC_VOCAB_PATH = MOD2ENM_RUN_PATH / 'vocab.src'\n",
    "MOD2ENM_TGT_VOCAB_PATH = MOD2ENM_RUN_PATH / 'vocab.tgt'\n",
    "\n",
    "mod2enm_yaml = 'mod2enm.yaml'\n",
    "\n",
    "MOD2ENM_MODEL_PATH = MOD2ENM_RUN_PATH / 'models'\n",
    "MOD2ENM_MODEL_PREFIX = 'mod2enm'"
   ]
  },
  {
   "cell_type": "code",
   "execution_count": null,
   "metadata": {
    "id": "hzJIRf0IF0A9"
   },
   "outputs": [],
   "source": [
    "config =  f'''# {mod2enm_yaml}\n",
    "save_data: {MOD2ENM_RUN_PATH}\n",
    "\n",
    "### DATA PROPROCESSING ###\n",
    "## Where the vocab(s) will be written\n",
    "src_vocab: {MOD2ENM_SRC_VOCAB_PATH}\n",
    "tgt_vocab: {MOD2ENM_TGT_VOCAB_PATH}\n",
    "\n",
    "# Corpus opts:\n",
    "data:\n",
    "    corpus_1:\n",
    "        path_src: {mod2enm_file_paths['training'][0]}\n",
    "        path_tgt: {mod2enm_file_paths['training'][1]}\n",
    "        transforms: []\n",
    "        weight: 1\n",
    "    valid:\n",
    "        path_src: {mod2enm_file_paths['validation'][0]}\n",
    "        path_tgt: {mod2enm_file_paths['validation'][1]}\n",
    "        transforms: []\n",
    "\n",
    "## silently ignore empty lines in data\n",
    "skip_empty_level: silent\n",
    "\n",
    "### TRAINING ###\n",
    "## Where the model will be saved\n",
    "save_model: {MOD2ENM_MODEL_PATH / MOD2ENM_MODEL_PREFIX}\n",
    "save_checkpoint_steps: 1000\n",
    "average_decay: 0.0005\n",
    "seed: 1234\n",
    "report_every: 100\n",
    "train_steps: 100000\n",
    "valid_steps: 100\n",
    "early_stopping: 10\n",
    "early_stopping_criteria: accuracy\n",
    "tensorboard: True\n",
    "tensorboard_log_dir: {MOD2ENM_RUN_PATH / 'logs'}\n",
    "\n",
    "# Batching\n",
    "world_size: 1\n",
    "gpu_ranks: [0]\n",
    "batch_size: 64\n",
    "valid_batch_size: 64\n",
    "batch_size_multiple: 1\n",
    "\n",
    "# Optimization\n",
    "model_dtype: \"fp32\"\n",
    "optim: \"adam\"\n",
    "learning_rate: 0.001\n",
    "\n",
    "# Model\n",
    "encoder_type: rnn\n",
    "decoder_type: rnn\n",
    "rnn_type: LSTM\n",
    "bidir_edges: True\n",
    "enc_layers: 2\n",
    "dec_layers: 2\n",
    "rnn_size: 1024\n",
    "word_vec_size: 256\n",
    "dropout: 0.5\n",
    "attn_dropout: 0.3\n",
    "'''\n",
    "\n",
    "with open(CONFIG_PATH / mod2enm_yaml, \"w+\") as config_yaml:\n",
    "  config_yaml.write(config)"
   ]
  },
  {
   "cell_type": "code",
   "execution_count": null,
   "metadata": {
    "id": "6yfSnvqCG5ny"
   },
   "outputs": [],
   "source": [
    "build_and_train(CONFIG_PATH / mod2enm_yaml)"
   ]
  },
  {
   "cell_type": "code",
   "execution_count": null,
   "metadata": {
    "id": "KR9OVz2kASQU"
   },
   "outputs": [],
   "source": [
    "# retrieve the models\n",
    "mod2enm_model_paths = [ MOD2ENM_MODEL_PATH / f for f in listdir(MOD2ENM_MODEL_PATH) if f.startswith(MOD2ENM_MODEL_PREFIX)]\n",
    "\n",
    "MOD2ENM_PREDICTIONS_PATH = MOD2ENM_RUN_PATH / 'predictions'\n",
    "!mkdir -p \"{MOD2ENM_PREDICTIONS_PATH}\"\n",
    "\n",
    "# Don't use meteor on non-english translations\n",
    "eval_metrics = ['sacrebleu', 'meteor']"
   ]
  },
  {
   "cell_type": "code",
   "execution_count": null,
   "metadata": {
    "id": "nmySfcAznh7H"
   },
   "outputs": [],
   "source": [
    "mod2enm_scores = evaluate(mod2enm_model_paths, \n",
    "                          mod2enm_file_paths['test'][0], \n",
    "                          mod2enm_file_paths['test'][1], \n",
    "                          eval_metrics,\n",
    "                          token_kwargs,\n",
    "                          MAX_SENTENCE_LENGTH, \n",
    "                          5, \n",
    "                          MOD2ENM_PREDICTIONS_PATH)"
   ]
  },
  {
   "cell_type": "markdown",
   "metadata": {
    "id": "dE0IJbgH3VC7"
   },
   "source": [
    "Using BLEU Scoring, the best performing model is after 3000 training iterations at beam size 5:\n",
    "\n",
    "    BLEU   = 28.4447\n",
    "    METEOR = 0.4577"
   ]
  },
  {
   "cell_type": "markdown",
   "metadata": {
    "id": "DgOAA9XAYkIc"
   },
   "source": [
    "## Old and Modern"
   ]
  },
  {
   "cell_type": "markdown",
   "metadata": {
    "id": "s7bLM4MoYsG8"
   },
   "source": [
    "### Old to Modern"
   ]
  },
  {
   "cell_type": "code",
   "execution_count": null,
   "metadata": {
    "id": "Y-kOLWJvYyn2"
   },
   "outputs": [],
   "source": [
    "from pathlib import Path\n",
    "\n",
    "ANG2MOD_TRANSLATE_NAME = 'ang2mod'\n",
    "!mkdir -p '{ANG2MOD_TRANSLATE_NAME}'\n",
    "\n",
    "# PATH VARIABLES\n",
    "ANG2MOD_TRANSLATE_PATH = Path(ANG2MOD_TRANSLATE_NAME)\n",
    "ANG2MOD_RUN_PATH = ANG2MOD_TRANSLATE_PATH / 'run'\n",
    "!mkdir -p \"{ANG2MOD_RUN_PATH}\"\n",
    "\n",
    "## Dataset Variables\n",
    "# For the Homilies Dataset\n",
    "ANG2MOD_HOM_SOURCE_VER = 't_old'\n",
    "ANG2MOD_HOM_SRC_LANG_CODE = 'ang'\n",
    "ANG2MOD_HOM_TARGET_VER = 't_mod'\n",
    "ANG2MOD_HOM_TGT_LANG_CODE = 'eng'\n",
    "\n",
    "# For the Bible Dataset\n",
    "ANG2MOD_SOURCE_VER = 't_alf_wsg'\n",
    "ANG2MOD_SRC_LANG_CODE = 'ang'\n",
    "ANG2MOD_TARGET_VER = 't_kjv'\n",
    "ANG2MOD_TGT_LANG_CODE = 'eng'\n",
    "\n",
    "MAX_SENTENCE_LENGTH = 60\n",
    "\n",
    "# Dataset Paths\n",
    "DATA_PATH = Path('data/preprocessed')\n",
    "!mkdir -p \"{DATA_PATH}\"\n",
    "\n",
    "set_deterministic()"
   ]
  },
  {
   "cell_type": "code",
   "execution_count": null,
   "metadata": {
    "id": "8HhPnhfjHJgm"
   },
   "outputs": [],
   "source": [
    "homilies_raw = HomiliesDataset(MISC_TEXTS_PATH / 't_hom.csv')\n",
    "hom_dataset = homilies_raw.bible_format(training=0.7, valid=0.15)"
   ]
  },
  {
   "cell_type": "code",
   "execution_count": null,
   "metadata": {
    "id": "cnDO3eUdke86"
   },
   "outputs": [],
   "source": [
    "print(\"# training verses: \\t\", len(hom_dataset['training']['t_old']))\n",
    "print(\"# training verses: \\t\", len(hom_dataset['validation']['t_old']))\n",
    "print(\"# training verses: \\t\", len(hom_dataset['test']['t_old']))"
   ]
  },
  {
   "cell_type": "code",
   "execution_count": null,
   "metadata": {
    "id": "7TSkJm1JHIpA"
   },
   "outputs": [],
   "source": [
    "# Generate splits and write to files\n",
    "versions = get_bible_versions_by_file_name([ANG2MOD_SOURCE_VER, ANG2MOD_TARGET_VER])\n",
    "\n",
    "datasets = create_datasets(versions, 0.8, \n",
    "                preprocess_operations = [preprocess_filter_num_words(MAX_SENTENCE_LENGTH),\n",
    "                                         preprocess_expand_contractions(),\n",
    "                ], write_files=True);"
   ]
  },
  {
   "cell_type": "code",
   "execution_count": null,
   "metadata": {
    "id": "pos70JdrILEh"
   },
   "outputs": [],
   "source": [
    "ANG2MOD_HOM_SRC_EXT = ANG2MOD_HOM_SOURCE_VER[2:]\n",
    "ANG2MOD_HOM_TGT_EXT = ANG2MOD_HOM_TARGET_VER[2:]\n",
    "\n",
    "ang2mod_hom_file_paths = {\n",
    "    'training' : (DATA_PATH / f'hom-train.{ANG2MOD_HOM_SRC_EXT}', DATA_PATH / f'hom-train.{ANG2MOD_HOM_TGT_EXT}'),\n",
    "    'validation' : (DATA_PATH / f'hom-valid.{ANG2MOD_HOM_SRC_EXT}', DATA_PATH / f'hom-valid.{ANG2MOD_HOM_TGT_EXT}'),\n",
    "    'test' : (DATA_PATH / f'hom-test.{ANG2MOD_HOM_SRC_EXT}', DATA_PATH / f'hom-test.{ANG2MOD_HOM_TGT_EXT}')\n",
    "    }\n",
    "\n",
    "ANG2MOD_SRC_EXT = ANG2MOD_SOURCE_VER[2:]\n",
    "ANG2MOD_TGT_EXT = ANG2MOD_TARGET_VER[2:]\n",
    "\n",
    "ang2mod_file_paths = {\n",
    "    'training' : (DATA_PATH / f'bible-train.{ANG2MOD_SRC_EXT}', DATA_PATH / f'bible-train.{ANG2MOD_TGT_EXT}'),\n",
    "    'validation' : (DATA_PATH / f'bible-valid.{ANG2MOD_SRC_EXT}', DATA_PATH / f'bible-valid.{ANG2MOD_TGT_EXT}'),\n",
    "    'test' : (DATA_PATH / f'bible-test.{ANG2MOD_SRC_EXT}', DATA_PATH / f'bible-test.{ANG2MOD_TGT_EXT}')\n",
    "    }\n",
    "\n",
    "token_kwargs = {\n",
    "    'case_markup': True\n",
    "    }"
   ]
  },
  {
   "cell_type": "code",
   "execution_count": null,
   "metadata": {
    "id": "Efy6XxQTS9Gh"
   },
   "outputs": [],
   "source": [
    "write_tokenized_dataset(hom_dataset, ANG2MOD_HOM_SOURCE_VER, ANG2MOD_HOM_SRC_LANG_CODE, ANG2MOD_HOM_TARGET_VER, ANG2MOD_HOM_TGT_LANG_CODE, ang2mod_hom_file_paths, token_kwargs)\n",
    "write_tokenized_dataset(datasets, ANG2MOD_SOURCE_VER, ANG2MOD_SRC_LANG_CODE, ANG2MOD_TARGET_VER, ANG2MOD_TGT_LANG_CODE, ang2mod_file_paths, token_kwargs)"
   ]
  },
  {
   "cell_type": "code",
   "execution_count": null,
   "metadata": {
    "id": "MjiQNv3UKKHc"
   },
   "outputs": [],
   "source": [
    "# Need to combine the validation sets for training\n",
    "COMBINED_VALID_SRC = DATA_PATH / f'combined-valid.{ANG2MOD_HOM_SRC_EXT}.{ANG2MOD_SRC_EXT}'\n",
    "COMBINED_VALID_TGT = DATA_PATH / f'combined-valid.{ANG2MOD_HOM_TGT_EXT}.{ANG2MOD_TGT_EXT}'\n",
    "COMBINED_TEST_SRC = DATA_PATH / f'combined-test.{ANG2MOD_HOM_SRC_EXT}.{ANG2MOD_SRC_EXT}'\n",
    "COMBINED_TEST_TGT = DATA_PATH / f'combined-test.{ANG2MOD_HOM_TGT_EXT}.{ANG2MOD_TGT_EXT}'"
   ]
  },
  {
   "cell_type": "code",
   "execution_count": null,
   "metadata": {
    "id": "pFs0vVD1sRB8"
   },
   "outputs": [],
   "source": [
    "with open(COMBINED_VALID_SRC, mode='w+', encoding='utf-8') as f:\n",
    "    with open(ang2mod_hom_file_paths['validation'][0], encoding='utf-8') as hom:\n",
    "        f.write('\\n'.join([l.rstrip('\\n') for l in hom if l != '\\n']))\n",
    "    with open(ang2mod_file_paths['validation'][0], encoding='utf-8') as hom:\n",
    "        f.write('\\n'.join([l.rstrip('\\n') for l in hom if l != '\\n']))\n",
    "\n",
    "with open(COMBINED_VALID_TGT, mode='w+', encoding='utf-8') as f:\n",
    "    with open(ang2mod_hom_file_paths['validation'][1], encoding='utf-8') as hom:\n",
    "        f.write('\\n'.join([l.rstrip('\\n') for l in hom if l != '\\n']))\n",
    "    with open(ang2mod_file_paths['validation'][1], encoding='utf-8') as hom:\n",
    "        f.write('\\n'.join([l.rstrip('\\n') for l in hom if l != '\\n']))"
   ]
  },
  {
   "cell_type": "code",
   "execution_count": null,
   "metadata": {
    "id": "PaE1zjf0sSF6"
   },
   "outputs": [],
   "source": [
    "with open(COMBINED_TEST_SRC, mode='w+', encoding='utf-8') as f:\n",
    "    with open(ang2mod_hom_file_paths['test'][0], encoding='utf-8') as hom:\n",
    "        f.write('\\n'.join([l.rstrip('\\n') for l in hom if l != '\\n']))\n",
    "    with open(ang2mod_file_paths['test'][0], encoding='utf-8') as hom:\n",
    "        f.write('\\n'.join([l.rstrip('\\n') for l in hom if l != '\\n']))\n",
    "\n",
    "with open(COMBINED_TEST_TGT, mode='w+', encoding='utf-8') as f:\n",
    "    with open(ang2mod_hom_file_paths['test'][1], encoding='utf-8') as hom:\n",
    "        f.write('\\n'.join([l.rstrip('\\n') for l in hom if l != '\\n']))\n",
    "    with open(ang2mod_file_paths['test'][1], encoding='utf-8') as hom:\n",
    "        f.write('\\n'.join([l.rstrip('\\n') for l in hom if l != '\\n']))"
   ]
  },
  {
   "cell_type": "code",
   "execution_count": null,
   "metadata": {
    "id": "H5UQfa5VIP11"
   },
   "outputs": [],
   "source": [
    "ANG2MOD_SRC_VOCAB_PATH = ANG2MOD_RUN_PATH / 'vocab.src'\n",
    "ANG2MOD_TGT_VOCAB_PATH = ANG2MOD_RUN_PATH / 'vocab.tgt'\n",
    "\n",
    "ang2mod_yaml = 'ang2mod.yaml'\n",
    "\n",
    "ANG2MOD_MODEL_PATH = ANG2MOD_RUN_PATH / 'models'\n",
    "ANG2MOD_MODEL_PREFIX = 'ang2mod'"
   ]
  },
  {
   "cell_type": "code",
   "execution_count": null,
   "metadata": {
    "id": "EXPANEslISd7"
   },
   "outputs": [],
   "source": [
    "config =  f'''# {ang2mod_yaml}\n",
    "save_data: {ANG2MOD_RUN_PATH}\n",
    "\n",
    "### DATA PROPROCESSING ###\n",
    "## Where the vocab(s) will be written\n",
    "src_vocab: {ANG2MOD_SRC_VOCAB_PATH}\n",
    "tgt_vocab: {ANG2MOD_TGT_VOCAB_PATH}\n",
    "\n",
    "# Corpus opts:\n",
    "data:\n",
    "    corpus_1:\n",
    "        path_src: {ang2mod_hom_file_paths['training'][0]}\n",
    "        path_tgt: {ang2mod_hom_file_paths['training'][1]}\n",
    "        transforms: [filtertoolong]\n",
    "        weight: 1\n",
    "    corpus_2:\n",
    "       path_src: {ang2mod_file_paths['training'][0]}\n",
    "       path_tgt: {ang2mod_file_paths['training'][1]}\n",
    "       transforms: [filtertoolong]\n",
    "       weight: 1\n",
    "    valid:\n",
    "        path_src: {COMBINED_VALID_SRC}\n",
    "        path_tgt: {COMBINED_VALID_TGT}\n",
    "        transforms: [filtertoolong]\n",
    "\n",
    "## silently ignore empty lines in data\n",
    "skip_empty_level: silent\n",
    "\n",
    "# Data Transformations\n",
    "### Filter\n",
    "src_seq_length: {MAX_SENTENCE_LENGTH}\n",
    "tgt_seq_length: {MAX_SENTENCE_LENGTH}\n",
    "\n",
    "### TRAINING ###\n",
    "## Where the model will be saved\n",
    "save_model: {ANG2MOD_MODEL_PATH / ANG2MOD_MODEL_PREFIX}\n",
    "save_checkpoint_steps: 1000\n",
    "average_decay: 0.0005\n",
    "seed: 1234\n",
    "report_every: 100\n",
    "train_steps: 100000\n",
    "valid_steps: 100\n",
    "early_stopping: 10\n",
    "# early_stopping_criteria: accuracy\n",
    "tensorboard: True\n",
    "tensorboard_log_dir: {ANG2MOD_RUN_PATH / 'logs'}\n",
    "\n",
    "# Batching\n",
    "world_size: 1\n",
    "gpu_ranks: [0]\n",
    "batch_size: 40\n",
    "valid_batch_size: 40\n",
    "batch_size_multiple: 1\n",
    "\n",
    "# Optimization\n",
    "model_dtype: \"fp32\"\n",
    "optim: \"adam\"\n",
    "learning_rate: 0.001\n",
    "\n",
    "# Model\n",
    "encoder_type: rnn\n",
    "decoder_type: rnn\n",
    "rnn_type: LSTM\n",
    "bidir_edges: True\n",
    "enc_layers: 2\n",
    "dec_layers: 2\n",
    "rnn_size: 512\n",
    "word_vec_size: 128\n",
    "dropout: 0.6\n",
    "attn_dropout: 0.4\n",
    "# global_attention: dot\n",
    "'''\n",
    "\n",
    "with open(CONFIG_PATH / ang2mod_yaml, \"w+\") as config_yaml:\n",
    "  config_yaml.write(config)"
   ]
  },
  {
   "cell_type": "code",
   "execution_count": null,
   "metadata": {
    "id": "4Ado19PtLlDh"
   },
   "outputs": [],
   "source": [
    "build_and_train(CONFIG_PATH / ang2mod_yaml)"
   ]
  },
  {
   "cell_type": "code",
   "execution_count": null,
   "metadata": {
    "id": "hBVvZeEb-l2W"
   },
   "outputs": [],
   "source": [
    "# retrieve the models\n",
    "ang2mod_models = [ ANG2MOD_MODEL_PATH / f for f in listdir(ANG2MOD_MODEL_PATH) if f.startswith(ANG2MOD_MODEL_PREFIX)]\n",
    "\n",
    "ANG2MOD_PREDICTIONS_PATH = ANG2MOD_RUN_PATH / 'predictions'\n",
    "!mkdir -p \"{ANG2MOD_PREDICTIONS_PATH}\"\n",
    "\n",
    "eval_metrics = ['sacrebleu', 'meteor']"
   ]
  },
  {
   "cell_type": "code",
   "execution_count": null,
   "metadata": {
    "id": "tNwnhwMa-oIY"
   },
   "outputs": [],
   "source": [
    "ang2mod_scores = evaluate(ang2mod_models, \n",
    "                          COMBINED_TEST_SRC, \n",
    "                          COMBINED_TEST_TGT, \n",
    "                          eval_metrics,\n",
    "                          token_kwargs,\n",
    "                          MAX_SENTENCE_LENGTH, \n",
    "                          5, \n",
    "                          str(ANG2MOD_PREDICTIONS_PATH))"
   ]
  },
  {
   "cell_type": "markdown",
   "metadata": {
    "id": "3JpSXB57egV8"
   },
   "source": [
    "The best performing model is after 3000 training iterations with early stopping and beam size 5:\n",
    "\n",
    "    BLEU   = 16.9989\n",
    "    METEOR = 0.3338"
   ]
  },
  {
   "cell_type": "markdown",
   "metadata": {
    "id": "hhYghOuQewS1"
   },
   "source": [
    "#### User Studies Predictions\n",
    "\n",
    "Generate predictions for the user studies"
   ]
  },
  {
   "cell_type": "code",
   "execution_count": null,
   "metadata": {
    "id": "98rqNcsWe8Ps"
   },
   "outputs": [],
   "source": [
    "queries = ['ON angynne gesceop God heofonan & eorðan.', \n",
    "           'ða gesceop Adam naman his wife, Eua, ðæt is lif, for ðanðe heo is ealra libbendra modor.', \n",
    "           'God clypode ða Adam, & cwæð: Adam, hwær eart ðu.', \n",
    "           '& GOD ða gemunde Noes fare & ðæra nytena ðe him midwæron, & asende wind ofer eorðan, & ða wæteruwurdon gewanode.', \n",
    "           'ða geseah God ðæt seo eorðe wæs gewemmed, for ðan ðeælc flæsc gewemde his weg ofer eorðan.', \n",
    "           'comon to Noe in to ðam arce, swa swa God bebead.', \n",
    "           '& ða wæteru toeodan & wanodon of ðone teoðan monð, & onðam teoðan monðe æteowedon ðæra muntacnollas.', \n",
    "           '& God ða gefylde on ðone seofoðan dæg his weorc ðe heworhte. & he gereste hine on ðone seofoðan dæg fram eallumðam weorcum ðe he gefremode.', \n",
    "           '& seo eorðe forðteah growende wyrta & sæd berende be hyrecynne & treow wæstm wyrcende & gehwilcsæd hæbbende æfter his hiwe; God geseah ða ðæt hit godwæs.', \n",
    "           'God cwæð ða soðlice: Beo nu leoht on ðære heofenanfæstnysse, & todælan dæg & nihte, & beon to tacnum& to tidum & to dagum & to gearum.', \n",
    "           'Mid ðam ðe he wolde þæt weorc begynnan, ða clypode Godesengel ardlice of heofonum, Abraham; Heandwyrde sona.', \n",
    "           '& hys swurd ateah þæt he hyne geoffrode on þa ealdanwisan.'\n",
    "           ]"
   ]
  },
  {
   "cell_type": "code",
   "execution_count": null,
   "metadata": {
    "id": "ZgSIwONzezcO"
   },
   "outputs": [],
   "source": [
    "model = ANG2MOD_MODEL_PATH / f'{ANG2MOD_MODEL_PREFIX}_step_3000.pt'\n",
    "OLD_TEXT_TOK = DATA_PATH / 'user-studies.ang'\n",
    "OLD_TEST_PRED = ANG2MOD_PREDICTIONS_PATH / 'old-text-pred.txt'\n",
    "\n",
    "with open(OLD_TEXT_TOK, mode='w+', encoding='utf-8') as f:\n",
    "      eval_text = [l.rstrip('\\n') for l in f]\n",
    "      f.write('\\n'.join([\" \".join(tokenizer(l, 'enm', **token_kwargs)) for l in queries]))\n",
    "\n",
    "!onmt_translate -model \"{model}\" -src \"{OLD_TEXT_TOK}\" -output \"{OLD_TEST_PRED}\" -min_length 1 -max_length \"{MAX_SENTENCE_LENGTH}\" -beam_size 5 -gpu 0 "
   ]
  },
  {
   "cell_type": "code",
   "execution_count": null,
   "metadata": {
    "id": "vNG5jadCe70T"
   },
   "outputs": [],
   "source": [
    "tokenize = pyonmttok.Tokenizer(\"aggressive\", **token_kwargs)\n",
    "hypotheses = get_detokenized_file(OLD_TEST_PRED, tokenize)\n",
    "\n",
    "for hyp in hypotheses:\n",
    "    print(hyp)"
   ]
  },
  {
   "cell_type": "markdown",
   "metadata": {
    "id": "XGa7Q7FNYxMf"
   },
   "source": [
    "### Modern to Old"
   ]
  },
  {
   "cell_type": "code",
   "execution_count": null,
   "metadata": {
    "id": "vP2qCNTsYzDe"
   },
   "outputs": [],
   "source": [
    "from pathlib import Path\n",
    "\n",
    "MOD2ANG_TRANSLATE_NAME = 'mod2ang'\n",
    "!mkdir -p '{MOD2ANG_TRANSLATE_NAME}'\n",
    "\n",
    "# PATH VARIABLES\n",
    "MOD2ANG_TRANSLATE_PATH = Path(MOD2ANG_TRANSLATE_NAME)\n",
    "MOD2ANG_RUN_PATH = MOD2ANG_TRANSLATE_PATH / 'run'\n",
    "!mkdir -p \"{MOD2ANG_RUN_PATH}\"\n",
    "\n",
    "## Dataset Variables\n",
    "# For the Homilies Dataset\n",
    "MOD2ANG_HOM_SOURCE_VER = 't_mod'\n",
    "MOD2ANG_HOM_SRC_LANG_CODE = 'eng'\n",
    "MOD2ANG_HOM_TARGET_VER = 't_old'\n",
    "MOD2ANG_HOM_TGT_LANG_CODE = 'ang'\n",
    "\n",
    "# For the Bible Dataset\n",
    "MOD2ANG_SOURCE_VER = 't_kjv'\n",
    "MOD2ANG_SRC_LANG_CODE = 'eng'\n",
    "MOD2ANG_TARGET_VER = 't_alf_wsg'\n",
    "MOD2ANG_TGT_LANG_CODE = 'ang'\n",
    "\n",
    "MAX_SENTENCE_LENGTH = 60\n",
    "\n",
    "# Dataset Paths\n",
    "DATA_PATH = Path('data/preprocessed')\n",
    "!mkdir -p \"{DATA_PATH}\""
   ]
  },
  {
   "cell_type": "code",
   "execution_count": null,
   "metadata": {
    "id": "yo9Km425jggi"
   },
   "outputs": [],
   "source": [
    "MOD2ANG_HOM_SRC_EXT = MOD2ANG_HOM_SOURCE_VER[2:]\n",
    "MOD2ANG_HOM_TGT_EXT = MOD2ANG_HOM_TARGET_VER[2:]\n",
    "\n",
    "mod2ang_hom_file_paths = {\n",
    "    'training' : (DATA_PATH / f'hom-train.{MOD2ANG_HOM_SRC_EXT}', DATA_PATH / f'hom-train.{MOD2ANG_HOM_TGT_EXT}'),\n",
    "    'validation' : (DATA_PATH / f'hom-valid.{MOD2ANG_HOM_SRC_EXT}', DATA_PATH / f'hom-valid.{MOD2ANG_HOM_TGT_EXT}'),\n",
    "    'test' : (DATA_PATH / f'hom-test.{MOD2ANG_HOM_SRC_EXT}', DATA_PATH / f'hom-test.{MOD2ANG_HOM_TGT_EXT}')\n",
    "    }\n",
    "\n",
    "MOD2ANG_SRC_EXT = MOD2ANG_SOURCE_VER[2:]\n",
    "MOD2ANG_TGT_EXT = MOD2ANG_TARGET_VER[2:]\n",
    "\n",
    "mod2ang_file_paths = {\n",
    "    'training' : (DATA_PATH / f'bible-train.{MOD2ANG_SRC_EXT}', DATA_PATH / f'bible-train.{MOD2ANG_TGT_EXT}'),\n",
    "    'validation' : (DATA_PATH / f'bible-valid.{MOD2ANG_SRC_EXT}', DATA_PATH / f'bible-valid.{MOD2ANG_TGT_EXT}'),\n",
    "    'test' : (DATA_PATH / f'bible-test.{MOD2ANG_SRC_EXT}', DATA_PATH / f'bible-test.{MOD2ANG_TGT_EXT}')\n",
    "    }\n",
    "\n",
    "token_kwargs = {\n",
    "    'case_markup': True\n",
    "    }"
   ]
  },
  {
   "cell_type": "code",
   "execution_count": null,
   "metadata": {
    "id": "KlYz3qtej2PB"
   },
   "outputs": [],
   "source": [
    "# Need to combine the validation sets for training\n",
    "COMBINED_VALID_SRC = DATA_PATH / f'combined-valid.{MOD2ANG_HOM_SRC_EXT}.{MOD2ANG_SRC_EXT}'\n",
    "COMBINED_VALID_TGT = DATA_PATH / f'combined-valid.{MOD2ANG_HOM_TGT_EXT}.{MOD2ANG_TGT_EXT}'\n",
    "COMBINED_TEST_SRC = DATA_PATH / f'combined-test.{MOD2ANG_HOM_SRC_EXT}.{MOD2ANG_SRC_EXT}'\n",
    "COMBINED_TEST_TGT = DATA_PATH / f'combined-test.{MOD2ANG_HOM_TGT_EXT}.{MOD2ANG_TGT_EXT}'"
   ]
  },
  {
   "cell_type": "code",
   "execution_count": null,
   "metadata": {
    "id": "pS0__xavkBf5"
   },
   "outputs": [],
   "source": [
    "MOD2ANG_SRC_VOCAB_PATH = MOD2ANG_RUN_PATH / 'vocab.src'\n",
    "MOD2ANG_TGT_VOCAB_PATH = MOD2ANG_RUN_PATH / 'vocab.tgt'\n",
    "\n",
    "mod2ang_yaml = 'mod2ang.yaml'\n",
    "\n",
    "MOD2ANG_MODEL_PATH = MOD2ANG_RUN_PATH / 'models'\n",
    "MOD2ANG_MODEL_PREFIX = 'mod2ang'"
   ]
  },
  {
   "cell_type": "code",
   "execution_count": null,
   "metadata": {
    "id": "FFOHsC9bkJ8S"
   },
   "outputs": [],
   "source": [
    "config =  f'''# {mod2ang_yaml}\n",
    "save_data: {MOD2ANG_RUN_PATH}\n",
    "\n",
    "### DATA PROPROCESSING ###\n",
    "## Where the vocab(s) will be written\n",
    "src_vocab: {MOD2ANG_SRC_VOCAB_PATH}\n",
    "tgt_vocab: {MOD2ANG_TGT_VOCAB_PATH}\n",
    "\n",
    "# Corpus opts:\n",
    "data:\n",
    "    corpus_1:\n",
    "        path_src: {mod2ang_hom_file_paths['training'][0]}\n",
    "        path_tgt: {mod2ang_hom_file_paths['training'][1]}\n",
    "        transforms: [filtertoolong]\n",
    "        weight: 1\n",
    "    corpus_2:\n",
    "       path_src: {mod2ang_file_paths['training'][0]}\n",
    "       path_tgt: {mod2ang_file_paths['training'][1]}\n",
    "       transforms: [filtertoolong]\n",
    "       weight: 1\n",
    "    valid:\n",
    "        path_src: {COMBINED_VALID_SRC}\n",
    "        path_tgt: {COMBINED_VALID_TGT}\n",
    "        transforms: [filtertoolong]\n",
    "\n",
    "## silently ignore empty lines in data\n",
    "skip_empty_level: silent\n",
    "\n",
    "# Data Transformations\n",
    "### Filter\n",
    "src_seq_length: {MAX_SENTENCE_LENGTH}\n",
    "tgt_seq_length: {MAX_SENTENCE_LENGTH}\n",
    "\n",
    "### TRAINING ###\n",
    "## Where the model will be saved\n",
    "save_model: {MOD2ANG_MODEL_PATH / MOD2ANG_MODEL_PREFIX}\n",
    "save_checkpoint_steps: 1000\n",
    "average_decay: 0.0005\n",
    "seed: 1234\n",
    "report_every: 100\n",
    "train_steps: 100000\n",
    "valid_steps: 100\n",
    "early_stopping: 10\n",
    "# early_stopping_criteria: accuracy\n",
    "tensorboard: True\n",
    "tensorboard_log_dir: {MOD2ANG_RUN_PATH / 'logs'}\n",
    "\n",
    "# Batching\n",
    "world_size: 1\n",
    "gpu_ranks: [0]\n",
    "batch_size: 40\n",
    "valid_batch_size: 40\n",
    "batch_size_multiple: 1\n",
    "\n",
    "# Optimization\n",
    "model_dtype: \"fp32\"\n",
    "optim: \"adam\"\n",
    "learning_rate: 0.001\n",
    "\n",
    "# Model\n",
    "encoder_type: rnn\n",
    "decoder_type: rnn\n",
    "rnn_type: LSTM\n",
    "bidir_edges: True\n",
    "enc_layers: 2\n",
    "dec_layers: 2\n",
    "rnn_size: 512\n",
    "word_vec_size: 128\n",
    "dropout: 0.6\n",
    "attn_dropout: 0.4\n",
    "'''\n",
    "\n",
    "with open(CONFIG_PATH / mod2ang_yaml, \"w+\") as config_yaml:\n",
    "  config_yaml.write(config)"
   ]
  },
  {
   "cell_type": "code",
   "execution_count": null,
   "metadata": {
    "id": "hdTZFn_Yyr3Z"
   },
   "outputs": [],
   "source": [
    "build_and_train(CONFIG_PATH / mod2ang_yaml)"
   ]
  },
  {
   "cell_type": "code",
   "execution_count": null,
   "metadata": {
    "id": "SFt9nbXgmmpj"
   },
   "outputs": [],
   "source": [
    "# retrieve the models\n",
    "mod2ang_models = [ MOD2ANG_MODEL_PATH / f for f in listdir(MOD2ANG_MODEL_PATH) if f.startswith(MOD2ANG_MODEL_PREFIX)]\n",
    "\n",
    "MOD2ANG_PREDICTIONS_PATH = MOD2ANG_RUN_PATH / 'predictions'\n",
    "!mkdir -p \"{MOD2ANG_PREDICTIONS_PATH}\"\n",
    "\n",
    "eval_metrics = ['sacrebleu', 'meteor']"
   ]
  },
  {
   "cell_type": "code",
   "execution_count": null,
   "metadata": {
    "id": "1AG50ke1mx0B"
   },
   "outputs": [],
   "source": [
    "mod2ang_scores = evaluate(mod2ang_models, \n",
    "                          COMBINED_TEST_SRC, \n",
    "                          COMBINED_TEST_TGT, \n",
    "                          eval_metrics,\n",
    "                          token_kwargs,\n",
    "                          MAX_SENTENCE_LENGTH, \n",
    "                          5, \n",
    "                          str(MOD2ANG_PREDICTIONS_PATH))"
   ]
  },
  {
   "cell_type": "markdown",
   "metadata": {
    "id": "DoP0Dj9o5w9P"
   },
   "source": [
    "The best performing model is after 2900 training iterations with early stopping and beam size 5:\n",
    "\n",
    "    BLEU   = 10.9438\n",
    "    METEOR = 0.2551"
   ]
  },
  {
   "cell_type": "markdown",
   "metadata": {
    "id": "vhqQLASVRDkI"
   },
   "source": [
    "## Modern to Modern"
   ]
  },
  {
   "cell_type": "markdown",
   "metadata": {
    "id": "Sehy2zifYKC7"
   },
   "source": [
    "### KJV to BBE\n"
   ]
  },
  {
   "cell_type": "code",
   "execution_count": null,
   "metadata": {
    "id": "YP-xsP39YWYy"
   },
   "outputs": [],
   "source": [
    "from pathlib import Path\n",
    "\n",
    "KJV2BBE_TRANSLATE_NAME = 'kjv2bbe'\n",
    "!mkdir -p '{KJV2BBE_TRANSLATE_NAME}'\n",
    "\n",
    "# PATH VARIABLES\n",
    "KJV2BBE_TRANSLATE_PATH = Path(KJV2BBE_TRANSLATE_NAME)\n",
    "KJV2BBE_RUN_PATH = KJV2BBE_TRANSLATE_PATH / 'run'\n",
    "!mkdir -p \"{KJV2BBE_RUN_PATH}\"\n",
    "\n",
    "# Dataset Variables\n",
    "KJV2BBE_SOURCE_VER = 't_kjv'\n",
    "KJV2BBE_SRC_LANG_CODE = 'eng'\n",
    "KJV2BBE_TARGET_VER = 't_bbe'\n",
    "KJV2BBE_TGT_LANG_CODE = 'eng'\n",
    "\n",
    "MAX_SENTENCE_LENGTH = 60\n",
    "\n",
    "# Dataset Paths\n",
    "DATA_PATH = Path('data/preprocessed')\n",
    "!mkdir -p \"{DATA_PATH}\"\n",
    "\n",
    "set_deterministic()"
   ]
  },
  {
   "cell_type": "code",
   "execution_count": null,
   "metadata": {
    "id": "xb4WzO-NYlOi"
   },
   "outputs": [],
   "source": [
    "# Generate splits and write to files\n",
    "versions = get_bible_versions_by_file_name([KJV2BBE_SOURCE_VER, KJV2BBE_TARGET_VER])\n",
    "\n",
    "datasets = create_datasets(versions, .82, \n",
    "                preprocess_operations = [preprocess_filter_num_words(MAX_SENTENCE_LENGTH),\n",
    "                                         preprocess_expand_contractions(),\n",
    "                                         preprocess_filter_num_sentences(),\n",
    "                ]);"
   ]
  },
  {
   "cell_type": "code",
   "execution_count": null,
   "metadata": {
    "id": "Z2E96kdFYriB"
   },
   "outputs": [],
   "source": [
    "KJV2BBE_SRC_EXT = KJV2BBE_SOURCE_VER[2:]\n",
    "KJV2BBE_TGT_EXT = KJV2BBE_TARGET_VER[2:]\n",
    "\n",
    "\n",
    "kjv2bbe_file_paths = {\n",
    "    'training' : (DATA_PATH / f'bible-train.{KJV2BBE_SRC_EXT}', DATA_PATH / f'bible-train.{KJV2BBE_TGT_EXT}'),\n",
    "    'validation' : (DATA_PATH / f'bible-valid.{KJV2BBE_SRC_EXT}', DATA_PATH / f'bible-valid.{KJV2BBE_TGT_EXT}'),\n",
    "    'test' : (DATA_PATH / f'bible-test.{KJV2BBE_SRC_EXT}', DATA_PATH / f'bible-test.{KJV2BBE_TGT_EXT}')\n",
    "    }\n",
    "\n",
    "token_kwargs = {\n",
    "    'case_markup': True\n",
    "    }"
   ]
  },
  {
   "cell_type": "code",
   "execution_count": null,
   "metadata": {
    "id": "_yfuACDqYuQh"
   },
   "outputs": [],
   "source": [
    "write_tokenized_dataset(datasets, KJV2BBE_SOURCE_VER, KJV2BBE_SRC_LANG_CODE, KJV2BBE_TARGET_VER, KJV2BBE_TGT_LANG_CODE, kjv2bbe_file_paths, token_kwargs)"
   ]
  },
  {
   "cell_type": "code",
   "execution_count": null,
   "metadata": {
    "id": "h3yz7ijRYwuD"
   },
   "outputs": [],
   "source": [
    "KJV2BBE_SRC_VOCAB_PATH = KJV2BBE_RUN_PATH / 'vocab.src'\n",
    "KJV2BBE_TGT_VOCAB_PATH = KJV2BBE_RUN_PATH / 'vocab.tgt'\n",
    "\n",
    "kjv2bbe_yaml = 'kjv2bbe.yaml'\n",
    "\n",
    "KJV2BBE_MODEL_PATH = KJV2BBE_RUN_PATH / 'models'\n",
    "KJV2BBE_MODEL_PREFIX = 'kjv2bbe'"
   ]
  },
  {
   "cell_type": "code",
   "execution_count": null,
   "metadata": {
    "id": "QpxcgalyY0tD"
   },
   "outputs": [],
   "source": [
    "config =  f'''# {kjv2bbe_yaml}\n",
    "save_data: {KJV2BBE_RUN_PATH}\n",
    "\n",
    "### DATA PROPROCESSING ###\n",
    "## Where the vocab(s) will be written\n",
    "src_vocab: {KJV2BBE_SRC_VOCAB_PATH}\n",
    "tgt_vocab: {KJV2BBE_TGT_VOCAB_PATH}\n",
    "\n",
    "# Corpus opts:\n",
    "data:\n",
    "    corpus_1:\n",
    "        path_src: {kjv2bbe_file_paths['training'][0]}\n",
    "        path_tgt: {kjv2bbe_file_paths['training'][1]}\n",
    "        transforms: []\n",
    "        weight: 1\n",
    "    valid:\n",
    "        path_src: {kjv2bbe_file_paths['validation'][0]}\n",
    "        path_tgt: {kjv2bbe_file_paths['validation'][1]}\n",
    "        transforms: []\n",
    "\n",
    "## silently ignore empty lines in data\n",
    "skip_empty_level: silent\n",
    "\n",
    "### TRAINING ###\n",
    "## Where the model will be saved\n",
    "save_model: {KJV2BBE_MODEL_PATH / KJV2BBE_MODEL_PREFIX}\n",
    "save_checkpoint_steps: 1000\n",
    "average_decay: 0.0005\n",
    "seed: 1234\n",
    "report_every: 100\n",
    "train_steps: 100000\n",
    "valid_steps: 100\n",
    "early_stopping: 10\n",
    "# early_stopping_criteria: accuracy\n",
    "tensorboard: True\n",
    "tensorboard_log_dir: {KJV2BBE_RUN_PATH / 'logs'}\n",
    "\n",
    "# Batching\n",
    "world_size: 1\n",
    "gpu_ranks: [0]\n",
    "batch_size: 64\n",
    "valid_batch_size: 64\n",
    "batch_size_multiple: 1\n",
    "\n",
    "# Optimization\n",
    "model_dtype: \"fp32\"\n",
    "optim: \"adam\"\n",
    "learning_rate: 0.001\n",
    "\n",
    "# Model\n",
    "encoder_type: rnn\n",
    "decoder_type: rnn\n",
    "rnn_type: LSTM\n",
    "bidir_edges: True\n",
    "enc_layers: 2\n",
    "dec_layers: 2\n",
    "rnn_size: 512\n",
    "word_vec_size: 256\n",
    "dropout: 0.5\n",
    "attn_dropout: 0.3\n",
    "'''\n",
    "\n",
    "with open(CONFIG_PATH / kjv2bbe_yaml, \"w+\") as config_yaml:\n",
    "  config_yaml.write(config)"
   ]
  },
  {
   "cell_type": "code",
   "execution_count": null,
   "metadata": {
    "id": "6XiOOKTvY3zI"
   },
   "outputs": [],
   "source": [
    "build_and_train(CONFIG_PATH / kjv2bbe_yaml)"
   ]
  },
  {
   "cell_type": "code",
   "execution_count": null,
   "metadata": {
    "id": "Fhbd32tKY6ca"
   },
   "outputs": [],
   "source": [
    "# retrieve the models\n",
    "kjv2bbe_models = [ KJV2BBE_MODEL_PATH / f for f in listdir(KJV2BBE_MODEL_PATH) if f.startswith(KJV2BBE_MODEL_PREFIX)]\n",
    "\n",
    "KJV2BBE_PREDICTIONS_PATH = KJV2BBE_RUN_PATH / 'predictions'\n",
    "!mkdir -p \"{KJV2BBE_PREDICTIONS_PATH}\"\n",
    "\n",
    "eval_metrics = ['sacrebleu', 'meteor']\n",
    "\n",
    "kjv2bbe_scores = evaluate(kjv2bbe_models, \n",
    "                          kjv2bbe_file_paths['test'][0], \n",
    "                          kjv2bbe_file_paths['test'][1], \n",
    "                          eval_metrics,\n",
    "                          token_kwargs,\n",
    "                          MAX_SENTENCE_LENGTH, \n",
    "                          5, \n",
    "                          str(KJV2BBE_PREDICTIONS_PATH))"
   ]
  },
  {
   "cell_type": "markdown",
   "metadata": {
    "id": "JFAtSw5N8DpE"
   },
   "source": [
    "The best performing model is after 4000 training iterations with early stopping and beam size 5:\n",
    "\n",
    "    BLEU   = 36.048\n",
    "    METEOR = 0.5451"
   ]
  },
  {
   "cell_type": "markdown",
   "metadata": {
    "id": "Tl4ZN87d-Jex"
   },
   "source": [
    "#### User Studies Predictions\n",
    "\n",
    "Generate predictions for the user studies"
   ]
  },
  {
   "cell_type": "code",
   "execution_count": null,
   "metadata": {
    "id": "3a-CXJdbyCJ1"
   },
   "outputs": [],
   "source": [
    "queries = ['In the beginning God created the heaven and the earth.', \n",
    "           \"And Adam called his wife's name Eve; because she was the mother of all living.\", \n",
    "           'And the LORD God called unto Adam, and said unto him, Where art thou?', \n",
    "           'And God remembered Noah, and every living thing, and all the cattle that was with him in the ark: and God made a wind to pass over the earth, and the waters assuaged;', \n",
    "           'And God looked upon the earth, and, behold, it was corrupt; for all flesh had corrupted his way upon the earth.', \n",
    "           'There went in two and two unto Noah into the ark, the male and the female, as God had commanded Noah.', \n",
    "           'And the waters decreased continually until the tenth month: in the tenth month, on the first day of the month, were the tops of the mountains seen.', \n",
    "           'And on the seventh day God ended his work which he had made; and he rested on the seventh day from all his work which he had made.', \n",
    "           'And the earth brought forth grass, and herb yielding seed after his kind, and the tree yielding fruit, whose seed was in itself, after his kind: and God saw that it was good.', \n",
    "           'And God did so that night: for it was dry upon the fleece only, and there was dew on all the ground.', \n",
    "           'Then said the trees unto the vine, Come thou, and reign over us.', \n",
    "           'Wherefore I have not sinned against thee, but thou doest me wrong to war against me: the LORD the Judge be judge this day between the children of Israel and the children of Ammon.', \n",
    "           'The labour of the foolish wearieth every one of them, because he knoweth not how to go to the city.', \n",
    "           'And if he trespass against thee seven times in a day, and seven times in a day turn again to thee, saying, I repent; thou shalt forgive him.',\n",
    "           'You only have I known of all the families of the earth: therefore I will punish you for all your iniquities.', \n",
    "           'And he is the head of the body, the church: who is the beginning, the firstborn from the dead; that in all things he might have the preeminence.', \n",
    "           'And the four beasts said, Amen. And the four and twenty elders fell down and worshipped him that liveth for ever and ever.', \n",
    "           'He hath also broken my teeth with gravel stones, he hath covered me with ashes.', \n",
    "           'If Satan also be divided against himself, how shall his kingdom stand? because ye say that I cast out devils through Beelzebub.', \n",
    "           'For men shall be lovers of their own selves, covetous, boasters, proud, blasphemers, disobedient to parents, unthankful, unholy,', \n",
    "           'And God said, Let there be lights in the firmament of the heaven to divide the day from the night; and let them be for signs, and for seasons, and for days, and years:', \n",
    "           'And Isaac trembled very exceedingly, and said, Who? where is he that hath taken venison, and brought it me, and I have eaten of all before thou camest, and have blessed him? yea, and he shall be blessed.', \n",
    "           'And the angel of the LORD called unto him out of heaven, and said, Abraham, Abraham: and he said, Here am I.', \n",
    "           'Thus they made a covenant at Beersheba: then Abimelech rose up, and Phichol the chief captain of his host, and they returned into the land of the Philistines.', \n",
    "           'And Abraham stretched forth his hand, and took the knife to slay his son.', \n",
    "           'So Abraham returned unto his young men, and they rose up and went together to Beersheba; and Abraham dwelt at Beersheba.', \n",
    "           'And you, being dead in your sins and the uncircumcision of your flesh, hath he quickened together with him, having forgiven you all trespasses;', \n",
    "           'Wives, submit yourselves unto your own husbands, as it is fit in the Lord.', \n",
    "           'But he that doeth wrong shall receive for the wrong which he hath done: and there is no respect of persons.', \n",
    "           \"Aristarchus my fellowprisoner saluteth you, and Marcus, sister's son to Barnabas, (touching whom ye received commandments: if he come unto you, receive him;)\", \n",
    "           'Now unto God and our Father be glory for ever and ever. Amen.'\n",
    "           ]"
   ]
  },
  {
   "cell_type": "code",
   "execution_count": null,
   "metadata": {
    "id": "B3EFlddk9KXl"
   },
   "outputs": [],
   "source": [
    "model = KJV2BBE_MODEL_PATH / f'{KJV2BBE_MODEL_PREFIX}_step_4600.pt'\n",
    "BBE_TEST_TOK = DATA_PATH / 'user-studies.eng'\n",
    "BBE_TEST_PRED = KJV2BBE_PREDICTIONS_PATH / 'bbe-text-pred.txt'\n",
    "\n",
    "with open(BBE_TEST_TOK, mode='w+', encoding='utf-8') as f:\n",
    "      eval_text = [l.rstrip('\\n') for l in f]\n",
    "      f.write('\\n'.join([\" \".join(tokenizer(l, 'enm', **token_kwargs)) for l in queries]))\n",
    "\n",
    "!onmt_translate -model \"{model}\" -src \"{BBE_TEST_TOK}\" -output \"{BBE_TEST_PRED}\" -min_length 1 -max_length \"{MAX_SENTENCE_LENGTH}\" -beam_size 5 -gpu 0 "
   ]
  },
  {
   "cell_type": "code",
   "execution_count": null,
   "metadata": {
    "id": "MxPNRubW9RST"
   },
   "outputs": [],
   "source": [
    "tokenize = pyonmttok.Tokenizer(\"aggressive\", **token_kwargs)\n",
    "hypotheses = get_detokenized_file(BBE_TEST_PRED, tokenize)\n",
    "\n",
    "for hyp in hypotheses:\n",
    "    print(hyp)"
   ]
  },
  {
   "cell_type": "markdown",
   "metadata": {
    "id": "u_x7_8W1-Dj6"
   },
   "source": [
    "### BBE to KJV"
   ]
  },
  {
   "cell_type": "code",
   "execution_count": null,
   "metadata": {
    "id": "a9eCtafP-Ro8"
   },
   "outputs": [],
   "source": [
    "from pathlib import Path\n",
    "\n",
    "BBE2KJV_TRANSLATE_NAME = 'bbe2kjv'\n",
    "!mkdir -p '{BBE2KJV_TRANSLATE_NAME}'\n",
    "\n",
    "# PATH VARIABLES\n",
    "BBE2KJV_TRANSLATE_PATH = Path(BBE2KJV_TRANSLATE_NAME)\n",
    "BBE2KJV_RUN_PATH = BBE2KJV_TRANSLATE_PATH / 'run'\n",
    "!mkdir -p \"{BBE2KJV_RUN_PATH}\"\n",
    "\n",
    "# Dataset Variables\n",
    "BBE2KJV_SOURCE_VER = 't_bbe'\n",
    "BBE2KJV_SRC_LANG_CODE = 'eng'\n",
    "BBE2KJV_TARGET_VER = 't_kjv'\n",
    "BBE2KJV_TGT_LANG_CODE = 'eng'\n",
    "\n",
    "MAX_SENTENCE_LENGTH = 60\n",
    "\n",
    "# Dataset Paths\n",
    "DATA_PATH = Path('data/preprocessed')\n",
    "!mkdir -p \"{DATA_PATH}\""
   ]
  },
  {
   "cell_type": "code",
   "execution_count": null,
   "metadata": {
    "id": "WV_phJ5x-qUh"
   },
   "outputs": [],
   "source": [
    "BBE2KJV_SRC_EXT = BBE2KJV_SOURCE_VER[2:]\n",
    "BBE2KJV_TGT_EXT = BBE2KJV_TARGET_VER[2:]\n",
    "\n",
    "bbe2kjv_file_paths = {\n",
    "    'training' : (DATA_PATH / f'bible-train.{BBE2KJV_SRC_EXT}', DATA_PATH / f'bible-train.{BBE2KJV_TGT_EXT}'),\n",
    "    'validation' : (DATA_PATH / f'bible-valid.{BBE2KJV_SRC_EXT}', DATA_PATH / f'bible-valid.{BBE2KJV_TGT_EXT}'),\n",
    "    'test' : (DATA_PATH / f'bible-test.{BBE2KJV_SRC_EXT}', DATA_PATH / f'bible-test.{BBE2KJV_TGT_EXT}')\n",
    "    }\n",
    "\n",
    "token_kwargs = {\n",
    "    'case_markup': True\n",
    "    }"
   ]
  },
  {
   "cell_type": "code",
   "execution_count": null,
   "metadata": {
    "id": "ULDwKpdq-4pJ"
   },
   "outputs": [],
   "source": [
    "BBE2KJV_SRC_VOCAB_PATH = BBE2KJV_RUN_PATH / 'vocab.src'\n",
    "BBE2KJV_TGT_VOCAB_PATH = BBE2KJV_RUN_PATH / 'vocab.tgt'\n",
    "\n",
    "bbe2kjv_yaml = 'bbe2kjv.yaml'\n",
    "\n",
    "BBE2KJV_MODEL_PATH = BBE2KJV_RUN_PATH / 'models'\n",
    "BBE2KJV_MODEL_PREFIX = 'bbe2kjv'"
   ]
  },
  {
   "cell_type": "code",
   "execution_count": null,
   "metadata": {
    "id": "IeJ8tSGO_D7j"
   },
   "outputs": [],
   "source": [
    "config =  f'''# {bbe2kjv_yaml}\n",
    "save_data: {BBE2KJV_RUN_PATH}\n",
    "\n",
    "### DATA PROPROCESSING ###\n",
    "## Where the vocab(s) will be written\n",
    "src_vocab: {BBE2KJV_SRC_VOCAB_PATH}\n",
    "tgt_vocab: {BBE2KJV_TGT_VOCAB_PATH}\n",
    "\n",
    "# Corpus opts:\n",
    "data:\n",
    "    corpus_1:\n",
    "        path_src: {bbe2kjv_file_paths['training'][0]}\n",
    "        path_tgt: {bbe2kjv_file_paths['training'][1]}\n",
    "        transforms: []\n",
    "        weight: 1\n",
    "    valid:\n",
    "        path_src: {bbe2kjv_file_paths['validation'][0]}\n",
    "        path_tgt: {bbe2kjv_file_paths['validation'][1]}\n",
    "        transforms: []\n",
    "\n",
    "## silently ignore empty lines in data\n",
    "skip_empty_level: silent\n",
    "\n",
    "### TRAINING ###\n",
    "## Where the model will be saved\n",
    "save_model: {BBE2KJV_MODEL_PATH / BBE2KJV_MODEL_PREFIX}\n",
    "save_checkpoint_steps: 1000\n",
    "average_decay: 0.0005\n",
    "seed: 1234\n",
    "report_every: 100\n",
    "train_steps: 100000\n",
    "valid_steps: 100\n",
    "early_stopping: 10\n",
    "# early_stopping_criteria: accuracy\n",
    "tensorboard: True\n",
    "tensorboard_log_dir: {BBE2KJV_RUN_PATH / 'logs'}\n",
    "\n",
    "# Batching\n",
    "world_size: 1\n",
    "gpu_ranks: [0]\n",
    "batch_size: 64\n",
    "valid_batch_size: 64\n",
    "batch_size_multiple: 1\n",
    "\n",
    "# Optimization\n",
    "model_dtype: \"fp32\"\n",
    "optim: \"adam\"\n",
    "learning_rate: 0.001\n",
    "\n",
    "# Model\n",
    "encoder_type: rnn\n",
    "decoder_type: rnn\n",
    "rnn_type: LSTM\n",
    "bidir_edges: True\n",
    "enc_layers: 2\n",
    "dec_layers: 2\n",
    "rnn_size: 512\n",
    "word_vec_size: 256\n",
    "dropout: 0.5\n",
    "attn_dropout: 0.3\n",
    "'''\n",
    "\n",
    "with open(CONFIG_PATH / bbe2kjv_yaml, \"w+\") as config_yaml:\n",
    "  config_yaml.write(config)"
   ]
  },
  {
   "cell_type": "code",
   "execution_count": null,
   "metadata": {
    "id": "Na-rD7WT_Pxd"
   },
   "outputs": [],
   "source": [
    "build_and_train(CONFIG_PATH / bbe2kjv_yaml)"
   ]
  },
  {
   "cell_type": "code",
   "execution_count": null,
   "metadata": {
    "id": "KES6Qf1L_Svq"
   },
   "outputs": [],
   "source": [
    "# retrieve the models\n",
    "bbe2kjv_models = [ BBE2KJV_MODEL_PATH / f for f in listdir(BBE2KJV_MODEL_PATH) if f.startswith(BBE2KJV_MODEL_PREFIX)]\n",
    "\n",
    "BBE2KJV_PREDICTIONS_PATH = BBE2KJV_RUN_PATH / 'predictions'\n",
    "!mkdir -p \"{BBE2KJV_PREDICTIONS_PATH}\"\n",
    "\n",
    "eval_metrics = ['sacrebleu', 'meteor']\n",
    "\n",
    "bbe2kjv_scores = evaluate(bbe2kjv_models, \n",
    "                          bbe2kjv_file_paths['test'][0], \n",
    "                          bbe2kjv_file_paths['test'][1], \n",
    "                          eval_metrics,\n",
    "                          token_kwargs,\n",
    "                          MAX_SENTENCE_LENGTH, \n",
    "                          5, \n",
    "                          str(BBE2KJV_PREDICTIONS_PATH))"
   ]
  },
  {
   "cell_type": "markdown",
   "metadata": {
    "id": "M7FPLnCyENjb"
   },
   "source": [
    "The best performing model is after 4000 training iterations with early stopping and beam size 5:\n",
    "\n",
    "    BLEU   = 31.2598\n",
    "    METEOR = 0.4973"
   ]
  },
  {
   "cell_type": "markdown",
   "metadata": {
    "id": "sVRlyBymEyTg"
   },
   "source": [
    "#### User Studies Predictions\n",
    "\n",
    "Generate predictions for the user studies"
   ]
  },
  {
   "cell_type": "code",
   "execution_count": null,
   "metadata": {
    "id": "YcgrCJeEDcKq"
   },
   "outputs": [],
   "source": [
    "queries = ['At the first God made the heaven and the earth', \n",
    "           'And the man gave his wife the name of Eve because she was the mother of all who have life.', \n",
    "           'And the voice of the Lord God came to the man, saying, Where are you?', \n",
    "           'And God kept Noah in mind, and all the living things and the cattle which were with him in the ark: and God sent a wind over the earth, and the waters went down.', \n",
    "           'And God, looking on the earth, saw that it was evil: for the way of all flesh had become evil on the earth.', \n",
    "           'In twos, male and female, they went into the ark with Noah, as God had said.', \n",
    "           'And still the waters went on falling, till on the first day of the tenth month the tops of the mountains were seen.', \n",
    "           'And on the seventh day God came to the end of all his work; and on the seventh day he took his rest from all the work which he had done.', \n",
    "           'And grass came up on the earth, and every plant producing seed of its sort, and every tree producing fruit, in which is its seed, of its sort: and God saw that it was good.', \n",
    "           'And that night God did so; for the wool was dry, and there was dew on all the earth round it.', \n",
    "           'Then the trees said to the vine, You come and be king over us.', \n",
    "           'So I have done no wrong against you, but you are doing wrong to me in fighting against me: may the Lord, who is Judge this day, be judge between the children of Israel and the children of Ammon.', \n",
    "           'The work of the foolish will be a weariness to him, because he has no knowledge of the way to the town.', \n",
    "           'And if he does you wrong seven times in a day, and seven times comes to you and says, I have regret for what I have done; let him have forgiveness.', \n",
    "           'You only of all the families of the earth have I taken care of: for this reason I will send punishment on you for all your sins.', \n",
    "           'And he is the head of the body, the church: the starting point of all things, the first to come again from the dead; so that in all things he might have the chief place.', \n",
    "           'And the four beasts said, So be it. And the rulers went down on their faces and gave worship.', \n",
    "           'By him my teeth have been broken with crushed stones, and I am bent low in the dust.', \n",
    "           'If, then, Satan is at war with himself, how will he keep his kingdom? because you say that I send evil spirits out of men by the help of Beelzebul.', \n",
    "           'For men will be lovers of self, lovers of money, uplifted in pride, given to bitter words, going against the authority of their fathers, never giving praise, having no religion,', \n",
    "           'And God said, Let there be lights in the arch of heaven, for a division between the day and the night, and let them be for signs, and for marking the changes of the year, and for days and for years:', \n",
    "           'And in great fear Isaac said, Who then is he who got meat and put it before me, and I took it all before you came, and gave him a blessing, and his it will be?', \n",
    "           'But the voice of the angel of the Lord came from heaven, saying, Abraham, Abraham: and he said, Here am I.', \n",
    "           'So they made an agreement at Beer-sheba, and Abimelech and Phicol, the captain of his army, went back to the land of the Philistines.', \n",
    "           'And stretching out his hand, Abraham took the knife to put his son to death.', \n",
    "           'Then Abraham went back to his young men and they went together to Beer-sheba, the place where Abraham was living.', \n",
    "           'And you, being dead through your sins and the evil condition of your flesh, to you, I say, he gave life together with him, and forgiveness of all our sins;', \n",
    "           'Wives, be under the authority of your husbands, as is right in the Lord.', \n",
    "           \"For the wrongdoer will have punishment for the wrong he has done, without respect for any man's position.\", \n",
    "           'Aristarchus, my brother-prisoner, sends his love to you, and Mark, a relation of Barnabas (about whom you have been given orders: if he comes to you, be kind to him),', \n",
    "           'Now to God our Father be glory for ever and ever. So be it.'\n",
    "           ]"
   ]
  },
  {
   "cell_type": "code",
   "execution_count": null,
   "metadata": {
    "id": "2TGmfXY3E1Ei"
   },
   "outputs": [],
   "source": [
    "model = BBE2KJV_MODEL_PATH / f'{BBE2KJV_MODEL_PREFIX}_step_4600.pt'\n",
    "KJV_TEST_TOK = DATA_PATH / 'user-studies.kjv'\n",
    "KJV_TEST_PRED = BBE2KJV_PREDICTIONS_PATH / 'kjv-text-pred.txt'\n",
    "\n",
    "with open(KJV_TEST_TOK, mode='w+', encoding='utf-8') as f:\n",
    "      eval_text = [l.rstrip('\\n') for l in f]\n",
    "      f.write('\\n'.join([\" \".join(tokenizer(l, 'enm', **token_kwargs)) for l in queries]))\n",
    "\n",
    "!onmt_translate -model \"{model}\" -src \"{KJV_TEST_TOK}\" -output \"{KJV_TEST_PRED}\" -min_length 1 -max_length \"{MAX_SENTENCE_LENGTH}\" -beam_size 5 -gpu 0 "
   ]
  },
  {
   "cell_type": "code",
   "execution_count": null,
   "metadata": {
    "id": "LGVeL1p5E3Yl"
   },
   "outputs": [],
   "source": [
    "tokenize = pyonmttok.Tokenizer(\"aggressive\", **token_kwargs)\n",
    "hypotheses = get_detokenized_file(KJV_TEST_PRED, tokenize)\n",
    "\n",
    "for hyp in hypotheses:\n",
    "    print(hyp)"
   ]
  }
 ],
 "metadata": {
  "accelerator": "GPU",
  "colab": {
   "collapsed_sections": [
    "lWn1nklMSqHm",
    "5rBaibtnSnz0",
    "FPrbGwuRQQJF",
    "jUZIeeDNlJJD"
   ],
   "include_colab_link": true,
   "machine_shape": "hm",
   "name": "OpenNMT EncoderDecoder.ipynb",
   "provenance": []
  },
  "hide_input": false,
  "kernelspec": {
   "display_name": "Python 3",
   "language": "python",
   "name": "python3"
  },
  "language_info": {
   "codemirror_mode": {
    "name": "ipython",
    "version": 3
   },
   "file_extension": ".py",
   "mimetype": "text/x-python",
   "name": "python",
   "nbconvert_exporter": "python",
   "pygments_lexer": "ipython3",
   "version": "3.8.5"
  }
 },
 "nbformat": 4,
 "nbformat_minor": 1
}
